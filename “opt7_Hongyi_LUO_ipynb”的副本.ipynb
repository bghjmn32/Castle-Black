{
  "nbformat": 4,
  "nbformat_minor": 0,
  "metadata": {
    "colab": {
      "name": "“opt7_Hongyi LUO.ipynb”的副本",
      "provenance": [],
      "collapsed_sections": [],
      "machine_shape": "hm",
      "include_colab_link": true
    },
    "kernelspec": {
      "name": "python3",
      "display_name": "Python 3"
    },
    "language_info": {
      "codemirror_mode": {
        "name": "ipython",
        "version": 3
      },
      "file_extension": ".py",
      "mimetype": "text/x-python",
      "name": "python",
      "nbconvert_exporter": "python",
      "pygments_lexer": "ipython3",
      "version": "3.6.4"
    }
  },
  "cells": [
    {
      "cell_type": "markdown",
      "metadata": {
        "id": "view-in-github",
        "colab_type": "text"
      },
      "source": [
        "<a href=\"https://colab.research.google.com/github/bghjmn32/Castle-Black/blob/master/%E2%80%9Copt7_Hongyi_LUO_ipynb%E2%80%9D%E7%9A%84%E5%89%AF%E6%9C%AC.ipynb\" target=\"_parent\"><img src=\"https://colab.research.google.com/assets/colab-badge.svg\" alt=\"Open In Colab\"/></a>"
      ]
    },
    {
      "cell_type": "code",
      "metadata": {
        "colab_type": "code",
        "id": "528S9T9NoLMT",
        "outputId": "e3c243f1-9120-4e35-a102-b9fb6d223fd6",
        "colab": {
          "base_uri": "https://localhost:8080/",
          "height": 142
        }
      },
      "source": [
        "# Importing the necessary libraries\n",
        "\n",
        "import matplotlib.pyplot as plt\n",
        "import numpy as np\n",
        "import nltk\n",
        "from nltk import pos_tag\n",
        "from nltk.corpus import stopwords\n",
        "from nltk.tokenize import ToktokTokenizer\n",
        "import pandas as pd\n",
        "import re\n",
        "import seaborn as sns\n",
        "from sklearn.feature_extraction.text import TfidfVectorizer\n",
        "from sklearn.model_selection import train_test_split\n",
        "import torch as th\n",
        "import torch.autograd as ag\n",
        "import torch.nn.functional as F\n",
        "import torch.nn as nn\n",
        "import torch.optim as optim\n",
        "from tqdm import trange\n",
        "\n",
        "sns.set()\n",
        "\n",
        "nltk.download('averaged_perceptron_tagger')\n",
        "nltk.download('stopwords')"
      ],
      "execution_count": 0,
      "outputs": [
        {
          "output_type": "stream",
          "text": [
            "[nltk_data] Downloading package averaged_perceptron_tagger to\n",
            "[nltk_data]     /root/nltk_data...\n",
            "[nltk_data]   Package averaged_perceptron_tagger is already up-to-\n",
            "[nltk_data]       date!\n",
            "[nltk_data] Downloading package stopwords to /root/nltk_data...\n",
            "[nltk_data]   Package stopwords is already up-to-date!\n"
          ],
          "name": "stdout"
        },
        {
          "output_type": "execute_result",
          "data": {
            "text/plain": [
              "True"
            ]
          },
          "metadata": {
            "tags": []
          },
          "execution_count": 54
        }
      ]
    },
    {
      "cell_type": "code",
      "metadata": {
        "colab_type": "code",
        "id": "40h2dzGIoLMY",
        "colab": {}
      },
      "source": [
        "# These are some useful functions from previous labs\n",
        "\n",
        "# Tokenize a sentence\n",
        "def clean_str(string, tolower=True):\n",
        "    \"\"\"\n",
        "    Tokenization/string cleaning.\n",
        "    Original taken from https://github.com/yoonkim/CNN_sentence/blob/master/process_data.py\n",
        "    \"\"\"\n",
        "    if tolower:\n",
        "        string = string.lower()\n",
        "    return string.strip()\n",
        "    #return string\n",
        "\n",
        "\n",
        "# reads the content of the file passed as an argument.\n",
        "# if limit > 0, this function will return only the first \"limit\" sentences in the file.\n",
        "def loadTexts(filename, limit=-1):\n",
        "    f = open(filename)\n",
        "    dataset=[]\n",
        "    line =  f.readline() #loading the first line of file\n",
        "\n",
        "    cpt=1\n",
        "    skip=0\n",
        "    firstcleanline = clean_str(line)\n",
        "    dataset.append(line)\n",
        "    while line :\n",
        "        everyline=clean_str(f.readline())\n",
        "        #print(everyline)\n",
        "\n",
        "        dataset.append(everyline)\n",
        "        cpt+=1\n",
        "        if limit > 0 and cpt >= limit: \n",
        "            break        \n",
        "    f.close()\n",
        "    #print(\"Load \", cpt, \" lines from \", filename , \" / \", skip ,\" lines discarded\")\n",
        "    return dataset\n"
      ],
      "execution_count": 0,
      "outputs": []
    },
    {
      "cell_type": "markdown",
      "metadata": {
        "id": "YvNacFh87bRW",
        "colab_type": "text"
      },
      "source": [
        "## Step 1: Importing data\n",
        "\n",
        "We have stored the dataset in Google Drive, which has easy integration with Google Colab, which we are using due to its free available computation power that is much greater than our own systems."
      ]
    },
    {
      "cell_type": "code",
      "metadata": {
        "id": "eL-BsuOW4SRs",
        "colab_type": "code",
        "outputId": "54afc2e9-7630-4b7f-af06-b92152aa12e2",
        "colab": {
          "base_uri": "https://localhost:8080/",
          "height": 126
        }
      },
      "source": [
        "# Setting the path to the dataset file\n",
        "\n",
        "import os\n",
        "from google.colab import drive\n",
        "drive.mount('/content/drive')\n",
        "path = \"/content/drive/My Drive/OPT7 Project_Eva_Robin_Hongyi/Data\"\n",
        "\n",
        "#just to test the connection works\n",
        "os.chdir(path)\n",
        "#os.listdir(path)\n",
        "!ls"
      ],
      "execution_count": 0,
      "outputs": [
        {
          "output_type": "stream",
          "text": [
            "Drive already mounted at /content/drive; to attempt to forcibly remount, call drive.mount(\"/content/drive\", force_remount=True).\n",
            "100k_data_sampled.csv  data_df.csv\t    processRaw-1.py\n",
            "50k_data_sampled.csv   data_sampled.csv     review_text_clean.csv\n",
            "beeradvocate.txt       df_with_POStags.csv  tokenized_text.csv\n",
            "Clean_dataset.csv      new_df.csv\n"
          ],
          "name": "stdout"
        }
      ]
    },
    {
      "cell_type": "code",
      "metadata": {
        "colab_type": "code",
        "id": "vW-R101uoLMb",
        "colab": {}
      },
      "source": [
        "LIM= 22212596 #This number is a precise boundary I choose with editor by hand from file.\n",
        "\n",
        "txtfile = \"beeradvocate.txt\"  \n",
        "beeradvocate = loadTexts(txtfile,limit=LIM)"
      ],
      "execution_count": 0,
      "outputs": []
    },
    {
      "cell_type": "code",
      "metadata": {
        "id": "RdzVjjv13UlA",
        "colab_type": "code",
        "outputId": "12ce4d09-7f50-4e25-e719-d4c1a4d96576",
        "colab": {
          "base_uri": "https://localhost:8080/",
          "height": 519
        }
      },
      "source": [
        "# To give an example for what the dataset looks like\n",
        "\n",
        "beeradvocate[0] = beeradvocate[0]\n",
        "beeradvocate[0:27]"
      ],
      "execution_count": 0,
      "outputs": [
        {
          "output_type": "execute_result",
          "data": {
            "text/plain": [
              "['beer/name: Sausa Weizen\\n',\n",
              " 'beer/beerid: 47986',\n",
              " 'beer/brewerid: 10325',\n",
              " 'beer/abv: 5.00',\n",
              " 'beer/style: hefeweizen',\n",
              " 'review/appearance: 2.5',\n",
              " 'review/aroma: 2',\n",
              " 'review/palate: 1.5',\n",
              " 'review/taste: 1.5',\n",
              " 'review/overall: 1.5',\n",
              " 'review/time: 1234817823',\n",
              " 'review/profilename: stcules',\n",
              " 'review/text: a lot of foam. but a lot.\\tin the smell some banana, and then lactic and tart. not a good start.\\tquite dark orange in color, with a lively carbonation (now visible, under the foam).\\tagain tending to lactic sourness.\\tsame for the taste. with some yeast and banana.',\n",
              " '',\n",
              " 'beer/name: red moon',\n",
              " 'beer/beerid: 48213',\n",
              " 'beer/brewerid: 10325',\n",
              " 'beer/abv: 6.20',\n",
              " 'beer/style: english strong ale',\n",
              " 'review/appearance: 3',\n",
              " 'review/aroma: 2.5',\n",
              " 'review/palate: 3',\n",
              " 'review/taste: 3',\n",
              " 'review/overall: 3',\n",
              " 'review/time: 1235915097',\n",
              " 'review/profilename: stcules',\n",
              " 'review/text: dark red color, light beige foam, average.\\tin the smell malt and caramel, not really light.\\tagain malt and caramel in the taste, not bad in the end.\\tmaybe a note of honey in teh back, and a light fruitiness.\\taverage body.\\tin the aftertaste a light bitterness, with the malt and red fruit.\\tnothing exceptional, but not bad, drinkable beer.']"
            ]
          },
          "metadata": {
            "tags": []
          },
          "execution_count": 22
        }
      ]
    },
    {
      "cell_type": "markdown",
      "metadata": {
        "id": "4dHW-a2ybhPj",
        "colab_type": "text"
      },
      "source": [
        "As is visible from the cell above, the dataset is still quite unorganised. The elements we want (scores and the text) are in different lines of the dataset now, so that should be fixed. This is done in the cell below, which also immediately deletes the \"review/overall: \" and similar parts so that we only have the numbers of the review score in the end. The scores are then put in a pandas dataframe for easier analysis later."
      ]
    },
    {
      "cell_type": "code",
      "metadata": {
        "id": "WhoYncMy-0Ff",
        "colab_type": "code",
        "colab": {}
      },
      "source": [
        "review_text=[]\n",
        "\n",
        "for i in range(12,22212596,14):\n",
        "  temp = beeradvocate[i]\n",
        "  review_text.append(temp)\n",
        "\n",
        "#getting 5 kinds of scores\n",
        "\n",
        "def extract_number(string):\n",
        "  \"\"\"\n",
        "  This function only extracts the review score from the input string and \n",
        "  deletes the rest.\n",
        "  \"\"\"\n",
        "  searchObj = re.search( r'\\d{1,}'+'\\.{0,}'+'\\d{0,}', string)\n",
        "  return float(searchObj.group())\n",
        "\n",
        "review_overall_label=[]\n",
        "\n",
        "for i in range(9,22212596,14):\n",
        "  review_overall_label.append(extract_number(beeradvocate[i]))\n",
        "\n",
        "review_overall_label_df = pd.DataFrame(review_overall_label, columns=['Overall Score'])\n",
        "\n",
        "review_taste_label=[]\n",
        "\n",
        "for i in range(8,22212596,14):\n",
        "  review_taste_label.append(extract_number(beeradvocate[i]))\n",
        "\n",
        "review_taste_label_df = pd.DataFrame(review_taste_label, columns=['Taste Score'])\n",
        "\n",
        "review_palate_label=[]\n",
        "\n",
        "for i in range(7,22212596,14):\n",
        "  review_palate_label.append(extract_number(beeradvocate[i]))\n",
        "\n",
        "review_palate_label_df = pd.DataFrame(review_palate_label, columns=['Palate Score'])\n",
        "\n",
        "review_aroma_label=[]\n",
        "\n",
        "for i in range(6,22212596,14):\n",
        "  review_aroma_label.append(extract_number(beeradvocate[i]))\n",
        "\n",
        "review_aroma_label_df = pd.DataFrame(review_aroma_label, columns=['Aroma Score'])\n",
        "\n",
        "review_appearance_label=[]\n",
        "\n",
        "for i in range(5,22212596,14):\n",
        "  review_appearance_label.append(extract_number(beeradvocate[i]))\n",
        "\n",
        "review_appearance_label_df = pd.DataFrame(review_appearance_label, columns=['Appearance Score'])\n"
      ],
      "execution_count": 0,
      "outputs": []
    },
    {
      "cell_type": "markdown",
      "metadata": {
        "id": "HWjQf0z6cFrg",
        "colab_type": "text"
      },
      "source": [
        "Now that the scores for the different aspects are separate dataframes, they should be combined into one pandas dataframe, which is what the code below takes care of."
      ]
    },
    {
      "cell_type": "code",
      "metadata": {
        "id": "HJo6WkIvxUbE",
        "colab_type": "code",
        "outputId": "20f1a75c-6eb3-4d9b-ffc5-2fcc071d548d",
        "colab": {
          "base_uri": "https://localhost:8080/",
          "height": 424
        }
      },
      "source": [
        "data_df = pd.concat([review_overall_label_df, \n",
        "                        review_taste_label_df, \n",
        "                        review_palate_label_df,\n",
        "                        review_aroma_label_df,\n",
        "                        review_appearance_label_df], axis=1)\n",
        "\n",
        "data_df"
      ],
      "execution_count": 0,
      "outputs": [
        {
          "output_type": "execute_result",
          "data": {
            "text/html": [
              "<div>\n",
              "<style scoped>\n",
              "    .dataframe tbody tr th:only-of-type {\n",
              "        vertical-align: middle;\n",
              "    }\n",
              "\n",
              "    .dataframe tbody tr th {\n",
              "        vertical-align: top;\n",
              "    }\n",
              "\n",
              "    .dataframe thead th {\n",
              "        text-align: right;\n",
              "    }\n",
              "</style>\n",
              "<table border=\"1\" class=\"dataframe\">\n",
              "  <thead>\n",
              "    <tr style=\"text-align: right;\">\n",
              "      <th></th>\n",
              "      <th>Overall Score</th>\n",
              "      <th>Taste Score</th>\n",
              "      <th>Palate Score</th>\n",
              "      <th>Aroma Score</th>\n",
              "      <th>Appearance Score</th>\n",
              "    </tr>\n",
              "  </thead>\n",
              "  <tbody>\n",
              "    <tr>\n",
              "      <th>0</th>\n",
              "      <td>1.5</td>\n",
              "      <td>1.5</td>\n",
              "      <td>1.5</td>\n",
              "      <td>2.0</td>\n",
              "      <td>2.5</td>\n",
              "    </tr>\n",
              "    <tr>\n",
              "      <th>1</th>\n",
              "      <td>3.0</td>\n",
              "      <td>3.0</td>\n",
              "      <td>3.0</td>\n",
              "      <td>2.5</td>\n",
              "      <td>3.0</td>\n",
              "    </tr>\n",
              "    <tr>\n",
              "      <th>2</th>\n",
              "      <td>3.0</td>\n",
              "      <td>3.0</td>\n",
              "      <td>3.0</td>\n",
              "      <td>2.5</td>\n",
              "      <td>3.0</td>\n",
              "    </tr>\n",
              "    <tr>\n",
              "      <th>3</th>\n",
              "      <td>3.0</td>\n",
              "      <td>3.0</td>\n",
              "      <td>2.5</td>\n",
              "      <td>3.0</td>\n",
              "      <td>3.5</td>\n",
              "    </tr>\n",
              "    <tr>\n",
              "      <th>4</th>\n",
              "      <td>4.0</td>\n",
              "      <td>4.5</td>\n",
              "      <td>4.0</td>\n",
              "      <td>4.5</td>\n",
              "      <td>4.0</td>\n",
              "    </tr>\n",
              "    <tr>\n",
              "      <th>...</th>\n",
              "      <td>...</td>\n",
              "      <td>...</td>\n",
              "      <td>...</td>\n",
              "      <td>...</td>\n",
              "      <td>...</td>\n",
              "    </tr>\n",
              "    <tr>\n",
              "      <th>1586609</th>\n",
              "      <td>5.0</td>\n",
              "      <td>4.0</td>\n",
              "      <td>4.0</td>\n",
              "      <td>4.0</td>\n",
              "      <td>3.5</td>\n",
              "    </tr>\n",
              "    <tr>\n",
              "      <th>1586610</th>\n",
              "      <td>4.0</td>\n",
              "      <td>4.0</td>\n",
              "      <td>2.0</td>\n",
              "      <td>5.0</td>\n",
              "      <td>2.5</td>\n",
              "    </tr>\n",
              "    <tr>\n",
              "      <th>1586611</th>\n",
              "      <td>4.5</td>\n",
              "      <td>4.0</td>\n",
              "      <td>3.5</td>\n",
              "      <td>3.5</td>\n",
              "      <td>3.0</td>\n",
              "    </tr>\n",
              "    <tr>\n",
              "      <th>1586612</th>\n",
              "      <td>4.0</td>\n",
              "      <td>4.5</td>\n",
              "      <td>4.5</td>\n",
              "      <td>4.5</td>\n",
              "      <td>4.5</td>\n",
              "    </tr>\n",
              "    <tr>\n",
              "      <th>1586613</th>\n",
              "      <td>5.0</td>\n",
              "      <td>4.5</td>\n",
              "      <td>4.5</td>\n",
              "      <td>4.5</td>\n",
              "      <td>4.5</td>\n",
              "    </tr>\n",
              "  </tbody>\n",
              "</table>\n",
              "<p>1586614 rows × 5 columns</p>\n",
              "</div>"
            ],
            "text/plain": [
              "         Overall Score  Taste Score  ...  Aroma Score  Appearance Score\n",
              "0                  1.5          1.5  ...          2.0               2.5\n",
              "1                  3.0          3.0  ...          2.5               3.0\n",
              "2                  3.0          3.0  ...          2.5               3.0\n",
              "3                  3.0          3.0  ...          3.0               3.5\n",
              "4                  4.0          4.5  ...          4.5               4.0\n",
              "...                ...          ...  ...          ...               ...\n",
              "1586609            5.0          4.0  ...          4.0               3.5\n",
              "1586610            4.0          4.0  ...          5.0               2.5\n",
              "1586611            4.5          4.0  ...          3.5               3.0\n",
              "1586612            4.0          4.5  ...          4.5               4.5\n",
              "1586613            5.0          4.5  ...          4.5               4.5\n",
              "\n",
              "[1586614 rows x 5 columns]"
            ]
          },
          "metadata": {
            "tags": []
          },
          "execution_count": 24
        }
      ]
    },
    {
      "cell_type": "code",
      "metadata": {
        "id": "laky2yTLhfnK",
        "colab_type": "code",
        "outputId": "3ebe069d-4741-45d3-aafd-2941610a8068",
        "colab": {
          "base_uri": "https://localhost:8080/",
          "height": 1000
        }
      },
      "source": [
        "review_text[0:100]"
      ],
      "execution_count": 0,
      "outputs": [
        {
          "output_type": "execute_result",
          "data": {
            "text/plain": [
              "['review/text: a lot of foam. but a lot.\\tin the smell some banana, and then lactic and tart. not a good start.\\tquite dark orange in color, with a lively carbonation (now visible, under the foam).\\tagain tending to lactic sourness.\\tsame for the taste. with some yeast and banana.',\n",
              " 'review/text: dark red color, light beige foam, average.\\tin the smell malt and caramel, not really light.\\tagain malt and caramel in the taste, not bad in the end.\\tmaybe a note of honey in teh back, and a light fruitiness.\\taverage body.\\tin the aftertaste a light bitterness, with the malt and red fruit.\\tnothing exceptional, but not bad, drinkable beer.',\n",
              " 'review/text: almost totally black. beige foam, quite compact, not bad.\\tlight smell, just a bit of roast, and some hop. a bit too light.\\tthe taste is light oo, and drinkable, with some malt, roast, hints of coffee.\\tnothing exceptional, but after all drinkable and pleasant.\\tlight to average body.\\tin the aftertaste some dust, somr roast, hint of caramel, and a bit of bitterness.\\tno defect, drinkable, not bad.',\n",
              " 'review/text: golden yellow color. white, compact foam, quite creamy. good appearance.\\tfresh smell, with good hop. quite dry, with a good grassy note. hay. fresh and pleasant.\\tmore sweet in the mouth, with honey. the hop comes back in the end, and in the aftertaste.\\tnot bad, but a bit too sweet for a pils.\\tin the end some vanilla and camomile note.\\tin the aftertaste, too. though the hop, a bit too sweet.\\thonest.',\n",
              " \"review/text: according to the website, the style for the caldera cauldron changes every year. the current release is a dipa, which frankly is the only cauldron i'm familiar with (it was an ipa/dipa the last time i ordered a cauldron at the horsebrass several years back). in any event... at the horse brass yesterday.\\t\\tthe beer pours an orange copper color with good head retention and lacing. the nose is all hoppy ipa goodness, showcasing a huge aroma of dry citrus, pine and sandlewood. the flavor profile replicates the nose pretty closely in this west coast all the way dipa. this dipa is not for the faint of heart and is a bit much even for a hophead like myslf. the finish is quite dry and hoppy, and there's barely enough sweet malt to balance and hold up the avalanche of hoppy bitterness in this beer. mouthfeel is actually fairly light, with a long, persistentely bitter finish. drinkability is good, with the alcohol barely noticeable in this well crafted beer. still, this beer is so hugely hoppy/bitter, it's really hard for me to imagine ordering more than a single glass. regardless, this is a very impressive beer from the folks at caldera.\",\n",
              " \"review/text: poured from the bottle into a chimay goblet.\\t\\tappearance: pours a slightly cloudy yellow/orange color with a half finger of fluffy white head. the head fades to a small layer on top of the pour.\\t\\tsmell: very light and crisp. i'm definitely picking up the ginger, but it's not overly powerful. there is a slight sweetness from the malt as well.\\t\\ttaste: very light and refreshing. the ginger shows up right away and then fades towards the finish of the sip. the finish is malty and bread like. \\t\\tmouthfeel: the body is on the thin side with smooth carbonation and a very dry finish.\\t\\toverall: this is a light and refreshing beer, but nothing spectacular. the amount of ginger is nice, but i would have liked to have more going on.\",\n",
              " 'review/text: 22 oz bottle from \"lifesource\" salem. $3.95 nice golden clear beer body with a nice sized frothy/creamy white head. ok aromas..mainlly a bit of ginger speice and some bready malt..simple nice taste very nice indeed..nice spicy ginger backed with slightly caramel maltiness..simple again but i like . liked the mouthfeel of this one..very forward carbonation which helps the ginger effect and a lingering ginger in the after taste. overall a simple ginger brew .i liked it',\n",
              " 'review/text: bottle says \"malt beverage brewed with ginger and ginger added\" sounds redundant to me, but lets move on.\\t\\tpours a bud light yellow with a tiny white head of small bubbles. the beer is almost as clear as a glass of water with some food coloring in it.\\t\\taroma of light ginger, a very light malt aroma but primarily odorless on the malt side. i wouldn\\'t be completely surprised if there were some adjuncts in here because of the lack of underlying malt flavors. taste is of a light adjunct lager with a dosing of ginger. not surprising there. \\t\\tthis is a light session beer, good for the warmer days of spring / summer. mouthfeel is extremely light, high carbonation.\\t\\toverall decent. this would be great if you were drinking beers on draft at the bar with some friends just hanging out. i wouldn\\'t necessarily seek it out though to drink out of a bottle.',\n",
              " \"review/text: i'm not sure why i picked this up... i like ginger, and it was reasonably cheap compared to the other beers i was looking at. pours a pale golden color with smallish head. nose is largely uneventful, some ginger in there, a bit of pear, but mainly normal lager. taste is pretty good, bringing a bit more of the ginger to the fore. mf was a bit fizzy, not terrible though. easy drinker, i had no problem finishing the bomber. interesting, but i probably won't get it again.\",\n",
              " 'review/text: poured from a 22oz bomber into my drie fonteinen tumbler. \\t\\thazy titanium yellow body (which catches the shadows forming a beautiful mysterious gradient) with an incredibly dense pillow of magnolia cream. heavy persistent head and rich creamy lacing.\\t\\tpale malt, asian pear, and a hint of citrus in the nose. a vaguely tropical lager...\\t\\ttastes very much like a well done apa, with a nice balance of pale malt and low hop bitterness. the ginger adds to the refreshing character, but isn\\'t readily detectable at first (lacks any \"bite\"). medium-dry finish - very clean and extremely quaffable. i can imagine hibiscus and beets working in small quantities, though i think they omitted those for this version...\\t\\tlight bodied, pillowy, smooth and moderately carbonated.\\t\\tdon\\'t go into this expecting a ginger beer (despite its name) as it has little in common with that spicy soft drink. this is a wonderful session ale though, and worth seeking out if you are a fan of light yet flavorful lagers. would obviously go perfectly with sushi.',\n",
              " 'review/text: ok, so the only reason i bought this while shopping at whole foods was because i\\'ve never had a \"ginger beer\" unless it was ginger ale...and we all know that\\'s not the kind of \"beer\" we\\'re interested in on this site! i was very excited to try this one!...\\t\\twhen poured out it looks like a cheapo macro lager at first sight, then the slowly fading head suggests otherwise. the body is crystal clear and is a very light straw color. the head is bright white and slowly dissipates, but is initially quite thick.\\t\\tsmell is adjuncty, but there are slight notes of honey and some kind of herby thing going on...ginger perhaps? can\\'t really tell. from the smell there is obviously something different about this beer though. it has a unique spicy smell to it and reminds me a lot of basil, not ginger. i really can\\'t quite place everything that i smell, but it is a very nice aroma. superb fragrance for this beer, though definitely not a \"ginger beer\" based on the smell.\\t\\tthe taste is very unique also. it\\'s kind of like a spiced pilsner or kolsch but the \"spice\" is kind of hard to identify. it does not taste like ginger. this beer actually reminds me a lot of bison\\'s honey basil ale. there is some definite astringent burn in the upper throat after swallowing that is no doubt from the ginger, but that is the only ginger i can detect with any certainty. it is only slightly hoppy and malty.\\t\\tthis a very enjoyable, very drinkable beer (i could easily drink 2 22oz\\'ers) but i think it\\'s failing in its claim to be a \"ginger\" beer because i don\\'t smell it, can barely taste it, and can only really detect the ginger\\'s physiological effects of a warm throat and stomach. so, rating this one is hard; i\\'ve never had a ginger beer so i don\\'t really know what one ought to taste like...but then again i can\\'t really tell if i\\'m tasting ginger here or the combination of other things. so confused. my recommendation to you caldera folks: add more ginger! there\\'s obviously enough of a curiosity about this style to not hurt sales if it was strengthened. i for one could handle it.',\n",
              " 'review/text: notes from 6/24\\t\\ta: bright golden glowing beer in a moment of clarity with a lively white head of feathery fluff\\t\\ts: the ginger is definitely there, or am i smelling my indian dinner? almost cake-like in its malt aroma, sharply bready with a slight edge of sweetness\\t\\tt: nice clear malty throat taste, reminds me of strands of complex sugars and grains, ginger is more subtle than i expected, more of an undertone than a backbone\\t\\tm: a refreshing light beer feel, like a pilsner or summer ale\\t\\td: if this was a sixer instead of a double-deuce, i could see this being a fine picnic pounder\\t\\toverall, pretty impressed for the particular style',\n",
              " \"review/text: 22 oz. bomber,\\t\\ta: pours a clear yellow with a mild white head, good retention.\\t\\ts: great nose of ginger, honey, perfume.\\t\\tt: rather light upfront, it reminds me of lawnmower, with a hint of ale fruitiness/kolsch-like almost. good ginger honey notes on the back end, not taking over the beer in any way. the ginger flavour is clear, but i wanted it to come out a little more in the end.\\t\\tm: very light-bodied, watery, light base beer for sure.\\t\\td: an easy drinking spiced beer, this will offend no one, but there's not a complexity to this brew at all.\",\n",
              " 'review/text: is it possible for a bottle to be a novelty product? i bought it cause it\\'s the only bottle of caldera i\\'ve ever seen, so i guess so. stoked to be the first to review a beer! that\\'s a lot of responsibility so i might as well give it a thorough review. poured into my new belgium tulip.\\t\\ta - clear golden color with a bright white 1\" head that slowly fades to a ring around the top. lacing is minimal, but still there and fighting to cling to the glass\\t\\ts - smell is of ginger and honey. very appealing.\\t\\tt - first hit is of ginger. not too strong or biting but just the right amount. fades to a sweetness on the tongue that is sort of perfect and then... a little bit of bite from the hops making their presence known.\\t\\tm - medium bodied and full. a nice round beer for the summer. not too heavy, definately not watery. not very good at describing it other than it\\'s good.\\t\\td - i really like this beer and i could probably put 2 or 3 glasses away, so one bomber is enough for me. i think 2 bombers would be too much, but i could probably drink one and half, so i think i\\'ll have to stick with the one.\\t\\toverall this is a pretty good ginger beer. i think that for my money though, i\\'d rather buy trade route\\'s ginger pale ale. if you\\'ve never had a ginger beer, pick it up.',\n",
              " \"review/text: brown in color, somewhere between a porter and a brown ale. lacking in aroma, but no off stuff. \\t\\tsame with the taste, lacking flavor, complexity, just went with smoothness. no off flavors though, so i can't say this is bad, just unadventurous, especially for caldera, whom i think is generally underrated. you really have to search to pull anything out of this in terms of the usual chocolate/coffee flavors, really, the only thing i can tell is that the oats did their job, because this is smooth and unoffensive.\\t\\tother than that, extremely pedestrian.\",\n",
              " 'review/text: caldera presents yet another circumstance where the brewery does not operate a brewpub, doesnt bottle their beers, and is located 300 miles from my home. to review their beers i traveled to their hometown of ashland, or and drank at the ashland creek bar and grill. this may have been a mistake. \\t\\t\\tthough i had other reasons to visit ashland, its disappointing (to say the least) to travel 300 miles and be served a spoiled beer. both the oatmeal stout and ashland amber were of poor quality at the ashland creek bar and grill. in the case of the oatmeal stout, a nice measure of cream and a wayward thread of mint were marred by a sulfuric smell and likely bacterial infection. though i cant say for certain, my best guess is that the house tap lines were something other than sanitized. \\t\\t\\ti will attempt to revisit and re-evaluate this beer. but for the time being, its important to ask a pertinent question about quality control. caldera is a 10 bbl microbrewery in a small town. how much responsibility do they have towards assuring that taps serving their product in their hometown are kept reasonably clean and free of bacterial encroachment? my answer to this question is that the brewery does have some responsibility to assure quality pours in its own hometown. this is especially so when they operate no pub of their own. not only does this effort protect the consumer from being served a spoiled beer, but the enforcement of quality control measures at the point of consumption simply makes good business sense. \\t\\t\\ttill then, theres nothing i really care say about this beer other than to wish whoever pursues it greater luck than i had at ashland creek.',\n",
              " \"review/text: more of a 'dry' than a lager, tasted at the 2002 oregon brewers festival. orange color, orange flavor in nose. light malts and fairly aggressively hopped; yet it is not very bitter. interesting taste, complex and subtle. light yet flavorful. mouthfeel is full and round. finish is clean and smooth. aftertaste is slightly bitter. nice beer. would be a great beer to sip during a hot summer day.\",\n",
              " 'review/text: pours a murky light brown with a 1 inch fizzy tan head that settles to a film on the top of the beer. small dots of lace slowly drip back into the remaining beer on the drink down. smell is of smoked meat, smoked cheese, campfire smoke, etc. taste is of smoked meat/cheese, campfire smoke, wood, and a slight cocoa/coffee flavor on the finish. the aftertaste is also cocoa/coffee with just a hint of the smoke flavors. this beer has a crisp level of carbonation with a bubbly mouthfeel. overall this is a very good rauchbier from caldera that has a bit of a different flavor than german rauchbiers.',\n",
              " 'review/text: faint sudsy head with some with some dissipating fine surface. light ruddy brown. some lace.\\t\\tsmokiness in the nose along with pickling vinegar (faint), and some slightly musty malt.\\t\\tplenty of bitter, slightly tangy, tannic beech smoke. traces of sweet toffee on the finish.\\t\\tfeel is standard, smooth, but went flat quite fast.',\n",
              " 'review/text: a new arrival to the west tn area... \\t\\tpours quite a bit lighter than i was expecting. almost like a brown ale? good head retention though...\\t\\tsmoky bacon aromas upfront mesh with a sweet maltiness... this is definitely very smoky but not overpoweringly so... its subtle at times and powerful at others on the nose... like being in a smokehouse after the meat has already been removed... very interesting...\\t\\tsweet caramel malts surprise me as i thought the smoke would hit hard right off the bat... the smokiness here is beautifully done... not a smoke bomb but rather the smoked meat flavors run parallel to the sweetness darting in and out, here and there...\\t\\tvery good example from caldera here. excellent use of the smoke with its subtleties...',\n",
              " \"review/text: sampled 10/30/11 - transferring the notes.\\t\\ta ruby pour with a half finger, off white head. opaque. smells like bacon it's so smoky. very much a wood smoked scent, great on an autumn night. the flavor is full but not overbearing, smoky with a hint of sweetness. i dig this a lot, will seek out other rauchbiers for some comparison.\",\n",
              " \"review/text: this is my first rauchbier. \\tpours a burnt amber. good head.\\tholy smoked meat! this has huge beef jerky on the nose. salty smoked meat goodness.\\ttastes about the same as it the nose. wood, smoked meat, cured meat, soy sauce. \\tthis is delicious for the first 6-8oz, then it gets to be a little much. i imagine after having this a few times, you appreciate the flavors more. maybe i should've picked a tamer rauchbier to be my first\",\n",
              " \"review/text: a: pours a rich, ruby color, clear. maybe a finger of off-white head. thin cap with thick ring of bubbles around the edge of the glass. light lacing.\\t\\ts: wow. smoked meat balanced by caramel, bready sweetness. i wish they would make this smell into a cologne..no shit, i'd wear it to special occasions. \\t\\tt: taste is equally as good. smoked meat with just a hint of peet. the nice thing about this beer is the smoked characteristics don't overpower the rest of the beer. the caramel, bready malts hold up nicely and there seems to a slightly hoppy finish. \\t\\tm: a little on the light side, but it's still manages to be somewhat creamy. \\t\\to: i had heard some good things about this beer and it certainly lived up to my expectations. it's a very well crafted beer where the smoke asserts itself, but doesn't drown out everything else. i'll pick this up again without a doubt.\",\n",
              " \"review/text: pours a mahogany color, rich, with a tan head. a finger, didn't stick around. \\t\\tholy smokes! this is one of the most smokiest beer i've ever had! but. it's balance and not one sided. smoke, cured bacon, rich caramel malts. more smoke. ok, maybe it one sided, but it's heavenly. \\t\\trich caramel malts and salty cured bacon strips. bacon lover right here, so, i don't feel the need to go on. \\t\\tlighter, but medium in body. feels fine. nothing tremendous.\\t\\taroma and flavor alone are mouthwatering. bravo. more please!!!\",\n",
              " \"review/text: pours light caramel brown with reddish highlights. the crisp white head doesn't hang around long, but quickly dissipates to a thin ring.\\t\\taroma is intense meaty smokyness. underneath is a mild malty sweetness.\\t\\ttaste is really interesting. the smoked meat quality is retained, but there is also a generous earthy, woody character. caramel and toffee really round things out. finishes with a mildly dry cedar character.\\t\\tmouthfeel is a chewy, medium body.\\t\\ta flavorful brew. strong smokiness is tempered by the rich caramel malt qualities. a real winner that could bring the non-smoke lover around.\",\n",
              " 'review/text: poured a slightly cloudy deep amber/red color with a thin soap ring of head.\\t\\tthe smell is amazing, big bacony smoked pork rauch goodness.\\t\\tthe taste follows the flavors nicely with a big smoked malt flavor with a nice bit of underlying sweetness, very pork like and very flavorful. has a nice light bitterness in the finish that helps even it out very well.\\t\\tthe mouthfeel is very slick and oily.\\t\\tgreat rauchbier!',\n",
              " 'review/text: big thanks to n2168 for knocking this off my wants. poured into a stone nonic and shared with my buddy ryan. \\t\\tthis was quite delicious. the pour made it seem a little lacking in carbonation, and while indeed it was light in carbonation i think it would have been awkward if it had been heavier considering the taste profile. this beer does such a good job of hitting the sweet and savory side of smoke. nice big campfire smoke smell and taste without any roughness to it, with a nice smoked bacon savory sweetness. this is easy to drink and just downright delicious, would love to have a keg of this by my desk.',\n",
              " 'review/text: on tap last night at the caldera tap house.\\t\\tpours a bright and clear brown color, with a small white head.\\t\\taromas are quite potent. lots of interesting smoke notes here, smoked meat, charred wood, like a camp out in a glass. very nice.\\t\\tflavor is like the nose, but toned down just a bit. light caramel, bready, and slightly sweet up front. beer then settles into a smoke house flavor, hints of charred wood, and jerky.\\t\\tmouthfeel is good, full, smooth, but not heavy at all.\\t\\toverall, this is a really well made smoked lager. the nose is wonderfull. but the beer turns out to be plenty drinkable, i usually am a one and done with smoked beers, not this one. another great offering from caldera.',\n",
              " \"review/text: 22 oz. think i picked this up in chicago binny's oak park.\\tsolid amber/brown pour, half finger of off white head disappated to a ring, but lasted.\\t\\tsmoked malt, peat, canadian bacon and some malty caramel. starting out real well.\\t\\ttaste, solid dose of smoked ham, bacon, peat and a woodiness. caramelly malt body is there, almost some faint raisin or apple cider, then finishes with solid bbq.\\tthe real deal, far far and away the best american version i've had of this style. so few try this style, even less accomplish the task.\\t\\tlighter side of medium bodied. coats well, goes down smooth, no alcohol. 7.4 is a little larger than some for the style, but it doesn't show itself.\\t\\tbest brew i've had in a while. first i've had from this brewery, if their others are even close to as good as this i won't be disapointed.\",\n",
              " 'review/text: poured into a 1/2 liter stein a deep rich amber/bronze with a fluffy one finger head that took its time fading.sweet smoke,brown,sugar,a bit of alcohol in the nose,mellow and sweetish,i found it appetizing.cherry wood sweetness and light peppery spice in the nose,its gentle sweet smoke instead of in your face,mellow but assertive enough.a real nice smoked bock beer,i will grab a few of these this fall while eating alot of smoked meat off my smoker.',\n",
              " \"review/text: a- semi aggressive pour produces a 1-1/2 finger very light brown head that rests atop a beautiful deep copper colored beer with nice clarity. nicve lacing.\\t\\ts- very similar to a smoked porter but more smoke. the smoke smell is beautiful. it smells like a campfire and the cherry wood is definitely present. excellent smelling beer. \\t\\tt- wow! they were not kidding on the bottle when they said it has an intense smoke flavor. it is excellent and i could see some folks that the smoke is too in-your-face, but i love smoked beers and i love this one. this is as smoked wood forward as i've ever had. it's pretty much smoky wood, a slight malt sweetness, and finishes woody and smokey again. this is a perfect fall beer. \\t\\tm- nice smooth mouthfeel with good carbonation. \\t\\to- not too complex because of the intense smoke taste but it works excellent in this beer. i will definitely be picking this up again.\",\n",
              " 'review/text: look: burnt orange in color with 1/4 inch head and no retention but did have some lacing\\t\\tsmell: this beer smells like a campfire in a bottle also reminds me of burnt oak chips or smoked salmon\\t\\ttaste: the flavor is this beer is quite unique. the smokiness is there in abundance and is pretty much just liquid smoke. again the taste does follow suite with the noise there is a big smoked salmon flavor\\t\\tmouthfeel: medium body and medium carbonation\\t\\toverall: if you love the idea of smoked anything actually you will love this beer. it is hands down one of the most smoky beers i have had to the point where it almost looses balance like say alaskan smoked porter or ass kisser smoked porter. however if you are into smoked beers this one is a must try',\n",
              " \"review/text: bottleshare from darthkostrizer with bhobs and alucard4\\tpours a hazy reddish brown with a very quick dissipating bubbly head. no retention obviously. \\t\\tholy shit. smells exactly like uncooked applewood smoked bacon and/or smoked salmon(not fishy). very nice yet strong smoke. \\t\\ttastes just like it smells. very strong different smoky flavor but good. \\t\\tgood carbonation. smooth and medium bodied.\\t\\toverall at some point in trying this beer you will say holy shit! it is unlike any any beer i've had and any smoked beer for that matter. its very interesting but good. although it very hard to drink alot of it. definitely a bottleshare.\",\n",
              " \"review/text: amber to yeloowcolored, was expecting darker, kind of even had a good degree of clarity to it. holy cherry wood campfire smoke! this smelled just like you were out in the woods.\\t\\twhoa, i could only take a small sip at first, massive liquid smoke feeling in the mouthfeel. ugh. its not so much as 'bad' as opposed to 'challenging'. i must admit, i could not even finish a taster of it. this is the most intense smoked beer i've ever come across, by far. i mean, beer geek bacon was a walk in the park compared to this. \\t\\ti could smell it all day. as far as drinking it, i'm cool with 1oz at a time, its that intense. if you like smoked beers, then check this out. if not, stay away. i kind of like them, trying to get into them more, so i'd try it again next time, but for now, i'm not worthy.\",\n",
              " \"review/text: pours a brilliant black with ruby tones and a 1-finger tan head. weak retention and lace, as expected from such a malty brew.\\t\\tthe nose is a smoky, malty blast of barbequed pulled pork, woodsmoke and brown sugar with undertones of baked apples and peaches. nothing over-the-top here- good balance and elegance in the aromas. and i dunno if it's just me and my mental associations, but i could swear i smelled the bbq sauce in this too.\\t\\tthe palate, much like the nose, is hugely smoky- more bbq and toffee flavors- with a medium-body and a slight creaminess from the malt. the hoppiness is mild while the smoke, naturally, is what lingers on the nice finish.\\t\\ta wonderful effort overall. i wouldn't go so far as to say world class, but the brew does have a nice bit of elegance which always gets more points from me. and the smokiness carries a lot of power without being too heavy.\",\n",
              " 'review/text: i have been thinking of picking up a bottle of this for a while\\t\\tpours a deep deep red, glowing, standing out a lot\\t\\tsmell of slight smoke, peat, a bit of cherry, bbq\\t\\ttaste is mostly peated malt smoke, a lot of it...i was expecting more smokey, not peated. still a bit of darker, roasted fruits, a bit of burnt sugar, some peanut but overall makes it pretty unique.\\t\\tmouthfeel is really smooth, lower carbed tickles the tongue just right, goes down well\\t\\toverall its not bad, but as far as a rauch, feels like to much of that peated taste, dont know if i would pick it amongst other smoked beers.',\n",
              " 'review/text: \"warning, this beer has an intense smoke flavor.\" warning...\\'cuz the flavor may cause me to overdose? i\\'ll leave it at that and hope i don\\'t o.d. off this 22 ounce bottle. on to the beer:\\t\\tthe chestnut colored body is a looker in the stange glass. on top, the head has a beige color, a somewhat creamy texture, several groupings of lace sticking around and retention. the rauch part is done extremely well; mouth-watering jerkied meats stand out above with a little sweetness and a kiss of leafy hop. \\t\\tthere\\'s a lot of meat on the bones of this beer. loads and loads and maltiness and medium smokiness make this a winner. the two run in sperate stages and never cross into each other\\'s territory, which in this case i adore. its got the smokiness that i would find in a summer sausage. on the malty side, there\\'s loads of caramel. little notes of ash give me the impression that i\\'m at a campfire. hints of brown sugar. alcohol slowly gets noticed, but in a good way; here it brings notes of raisin. there is a moderate hoppiness that can be sensed for a brief second, catch it before the smoke and malt beat it down. on the fuller side in terms of mouthfeel, quite smooth with the bubbles very small yet enough to be felt. \\t\\tif i hadn\\'t stuffed myself with chinese food earlier in the night, i may have been more tempted to overdose on rauch ur bock. only kidding, i have a good idea when to stop. warning, you may be temped buy more bottles after you try your first. in short, superb.',\n",
              " 'review/text: a-bright, crystal clear, copper with a medium tan head that slowly fades to a thin cap and leaves light lace.\\t\\ts-campfire smoke with a subtle hit of applewoods smoked bacon. sweet caramel malt and spicy pepper notes accent in the background.\\t\\tt-yes, this is a smoked brew but it never comes off as over the top. in fact it is about as perfect as it can get. dry, woody smokiness and spicy, herbal hops dominate. caramel malt sweetness provides a healthy backbone with tones of toasted biscuit, apple and buckwheat honey.\\t\\tm-medium bodied with a feel that is bigger than it really is. smooth and slick with a drying, woody astringency in the finish. nice lingering sweet smokiness.\\t\\td-simply put---&gt;outstanding! quite possibly one of the finest rauch beers i have had the pleasure of imbibing! this is a beer i wish i would have tried sooner so i could have gone out and stocked up on. well done caldera, this is a beer you should be very proud of!',\n",
              " \"review/text: overall a really nice and interesting beer. i saw this on the shelf and hadn't tried anything yet from this brewery but looked interesting. figured i would try it. it was really a nice beer. it definitely had a lot of smoky and meaty flavor to it! very interesting and nice beer overall, i would drink it again.\",\n",
              " 'review/text: amber brown in color with very little head but a nice ring.\\tnicely carbonated.\\t\\tsmells like a camp fire, malts have a good sweet character with an abundance of smoke.\\t\\ttaste is quite good with smokiness being pungent but not overwelming.\\ta sweet tasting bock with smokiness coming through around mid drink with a smooth mellow finish.\\t\\ta good warming smoky beer.',\n",
              " \"review/text: poured from a bomber into a shaker pint glass.\\t\\ta: clear, dark amber color with one finger of diminishing off-white foam head. light lacing remains on the glass.\\t\\ts: sweet woodsmoke is intense, developing fruity and savory complexity that distinguishes itself above the bavarian archetypes.\\t\\tt: begins off-dry, with caramel and sharp woodsmoke that becomes more dry by the middle. acidity flares early but remains mild overall. smoke nearly persists throughout, but diminishes by the clean, short finish.\\t\\tm: thin to medium viscosity, wet on the palate but becoming a bit too insubstantial, with moderate carbonation.\\t\\td/o: this oregon-brewed rauchbeer develops some of the most intense woodsmoke essence encountered thus far, but it may be at the expense of the strong lager that is its base. deciphels of the imports from bamberg would find this beer's intensity surprising--if not off-putting--but it does struggle to leave any impression other than aggressively pungent woodsmoke.\",\n",
              " 'review/text: complex enjoyable smoked. tasty rich malt,caramel, woody,spicey, and balanced. leans a tad to sweetness rather than bitterness. the smoke is significant in the aroma but not overwhelming. above average mouthfeel. yellow coloured body. most drinkable.thanks augustgarage.',\n",
              " 'review/text: this beer pours a dark amber color, with a perfect size head that did dispate quickly. the smell is strongly of malts, and a smokyness. the taste starts off very malty, smoked flavors, then finishs with a smoked sausage like flavor. the aftertaste is strongly of a smoked meat; and the flavor stays on your palette for some time, also nicely carbonated. overall fantastic beer, very odd, but still enjoyable.',\n",
              " \"review/text: this is the first rauchbier that i have reviewed. i had it at the bier stein in eugene, or. \\t\\t-a dark but translucent amber with a small head that remains on the edge, with slight lacing in the middle\\t-aroma: smoked bacon, smoky wood flavor (cherry, beechwood), smoke in general\\t-medium carbonation\\t-crisp lager flavor at the beginning that is then overwhelmed by the smoky flavor, some caramel undertones, feels like you're exhaling a campfire\\t-smoky flavor remains in your mouth indefinitely? my friend could still smell smoke on my breath an hour later on the way home even though i was in the back seat and had a breathmint! \\t-leaves a dry, spinach-like feeling in the mouth\\t\\tthe smoke was pretty intense. i enjoyed it okay, but i'll have to try some other rauchbier to compare...\",\n",
              " \"review/text: pours a rich burnt caramel hue with some deep amber hues... dark for a rauchbier. a surprisingly dark tan head slowly fades and leaves ample lacing.\\t\\taroma is pungently smokey... sweet malt, sweet smoke, and some salted caramel in the nose.\\t\\tthe taste, as expected, is smokey. not the smokiest or most pungent smoke profile i've experienced, but damn up there. and i think it's the intense rich malt and sweetness from the malt that keeps the smoke slightly tamed. a touch of lemon and citrus fruitiness in the finish which blends perfectly with the cherry smoke.\\t\\tit's not as crisp or dry as other rachbiers, and it seems a bit more full-bodied, with almost a touch of syrupiness to it. which is kind of an interesting take on it. i'm digging it. \\t\\ti'm not usually one to say this, but it's almost a touch malt-forward. not that it's a bad thing. i think this is probably my favorite domestically produced rauchbier i've had the pleasure of tasting. it really hits on all cylinders. a touch sweet and malt forward, but all in all, it does what it's going for and works beautifully. definitely worth seeking out.\",\n",
              " \"review/text: on draught at the beer stein, rauch r bock is chestnut brown with a small off-white head that leaves no lace. nice glow to it though.\\t\\tsmell is smokey and sweet. both cherry and beechwood were used, but i'm getting mostly cherry in the nose. \\t\\ttaste is really quite smokey, the beechwood really asserting itself here, although the sweetness of the cherry wood and the malt is no slouch either. the smoke has a sharp phenolic quality that i get from peat, but with the sweetness i think it works well. note it's not cloying, the sweetness is enjoyable and provides relative balance. \\t\\tmouthfeel is slick, some softness, a medium bodied, and smooth. nice. \\t\\tdrinkability is really quite good for such a smoke bomb. no doubt inspired by aecht schlenkerla, with the body and color of the marzen, but the punch of the ur bock, it one of the best stateside examples of the style, which is rarely attempted and even more rarely successful. i have to say, this was really good, and with just a touch less phenols, would be up a notch easily.\",\n",
              " \"review/text: got this in a 22 ounce bomber. it poured a deep bright brown with a pretty small head. \\t\\taromas of smoked kielba, and dark roasted malts. \\t\\tthis beer was ok but for a style that i like so much it did'nt really please as much as i thought it would. it had a nice amount of smokiness to it. really obvious and pretty strong but not charred. but the oily consistency of the beer along with the huge saltiness made the beer less than i was hoping for. \\t\\tit was still a beer that i'm glad i grabbed. they don't make many in the style anyways.\",\n",
              " \"review/text: when i'm in the mood for something different from my usual assortment of ipa's i usually reach for a smoked beer like a rauchbier or porters. \\t\\twow this is the mother load of smoked dominance. nothing subtle about this liquid smoke bomb. concentrated ash and dried aromatic kindling. damp tobacco just adds to the one sided affair. if i had to reach for some balance there is a faint raisin type sweetness buried in the finish. \\t\\tnotes: i'd be interested to see exactly how they brewed this beer. the smoke seems more of an extract additive than natural smoke. a bit much for me. however, a 12oz bottle would have been more appealing for one sitting and it has nothing to do with the moderate abv. its a rich sob.\",\n",
              " 'review/text: 22oz bottle.\\t\\tpours clear amber with a tight, half inch head of bone. thin but webbed lacing and a partial skim coat for the duration.\\t\\taromatics lead off with a blast of smoked malts and caramel. quite meaty and plump with plenty of doughy malt and smoldering wood. very nice.\\t\\tmedium bodied with a crisp, slightly tacky mouthfeel. a hint of chew adds some substance.\\t\\tsweet malt and wafting smoke start the palate.\\ta crisp, clean munich profile is the perfect arena for plenty of beechwood smoke with hints of bacon and char.\\t\\tfinishes with unrelenting smoke and rich malt.\\t\\tgreat beer. loads of smoke and very authentic.',\n",
              " 'review/text: a - poured out of a bottle into a tulip glass. lots of bubbles, almost transparent, rust-red color. no head.\\t\\ts - smoky, smoke smoke. smells like right after i get the bbq going but before i throw any meat on the grill. i also get a green olive scent at the beginning.\\t\\tt - smoke. burnt wood. sweet malt at the end. no bitterness at all. i think the smoke mellows out the intense malt sweetness that usually accompanies a bock. \\t\\tm - very crisp, it is a lager after all.\\t\\td - a good beer. there are not too many smoked beers made, so for that reason alone i tried it. well worth it, though it was not my favorite smoked beer.',\n",
              " \"review/text: deep cherry body with a faint beige head the recedes to nothing. no cap, no wisp ring, no lacing. can't say this looks like anything special. \\t\\tsmokey and spicy summer sausage is all i can smell no matter how i try. it is however a wonderful aroma that i really enjoy. \\t\\twow! we have liquid bacon in a glass here! although initially the cured meat taste is so intense i can't look past it, i was finally able to pick on its other dynamics half way through the bomber. sweet stone fruits and a touch of orange zest add their nuances to the flavor. its more complex than i usually find smoked beers to be and i can really enjoy it!\\t\\tsemi-thin in body with fine prickly carbonation is a nice contrast to such a powerful flavor profile. anything heavier may have been too much. finishes clean. \\t\\ti found this a little difficult to drink at first due to its uniqueness, but grew accustomed to the pungency. this is a nice sipper if given a chance and i'm really glad i tried it. recommended.\",\n",
              " \"review/text: poured from a 22oz bomber into my ayinger celebrator doppelbock glass. \\t\\tbrilliantly clear rufous body with faint sienna then amber highlights. a faint yellow-ish beige head persists. light soapy lacing.\\t\\tmelanoidin drenched smoked dark brown sugar laden bready malt aromatics. simple but absolutely entrancing - takes hold of your reptile brain like bacon.\\t\\tsweet fruity malty palate entry suffused with delicate layers of smoke. i can't quite tease apart the beechwood and cherry, but the latter adds a bright complexity to the darker tones of the beechwood (which is more standard for this style i believe). fine smoked ham, pink peppercorn, carmelized winter squash, rye bread, maybe a hint of treacle...at some point the analysis shuts off and the enjoyment takes over. really well done, the best domestic rauchbier i've tried thus far.\\t\\tlight-bodied, moderately carbonated, with low astringency.\\t\\ti envy anyone who has access to growlers of this - the drinkability is superior as well as the flavor.\",\n",
              " \"review/text: i shared this bottle with tenderbranson69, picked up at al's of hampden. poured chilled from the 22oz into a tulip and snifter.\\t\\ta - a beautiful bronze color w/ ruby highlights, mild haziness w/ translucent clarity and thin cream cap which settles to a ring of tiny beads of carbonation\\t\\ts - there is a very intricate aroma of sweet malt combined with woody smokiness. the hardwood aroma is earthy with a slight hint of caramel from the malt and the smoke is very aromatic with a light stone fruit ester in the background\\t\\tm - the feel is rich with med full body and mild dry smoky texture w/ light bitter tinge and moderate carbonation w/ semi-dry finish\\t\\tt - i enjoyed the brief sweet perky malt which has mild nutty aspect and slight bready quality. the smoke flavor is moderately strong w/ a mild woody and dry flavor not unlike sweet smoked jerky. the taste has a nice herbal hop complimenting the malt bread crumb taste and caramel w/ a smoke that lasts into the semi-sweet finish\\t\\ta - a great rauchbier, one i could enjoy frequently if it weren't such a large bottle, the mid 7% hinders it slightly too, but this was great to share and i loved the complexity of bock malts w/ smoke and smoothness from the lagering. it is a beer i would like to see more brewers attempt, this is a good representative of the style.\",\n",
              " 'review/text: 22oz brown bomber with no freshness date. \\t\\tdecent sized head with a faint crackle but still a sticky lace, bright amber color. smells of wood smoke, dry and not bacon-ish with a thick maltiness and peppery alcohol. big body, slick and smooth. yeah, the smoke is big but not over the top ... dry and almost ashy. malt stands tall with tones of toasted bread, treacle, dried grass. mild hopping goes a tad herbal in the finish, a little red in the cheeks from the alcohol. smokiness lingers far into the after taste.\\t\\tso smoky, so tasty ... love the different woods used on the malt. alcohol is clean and nearly hidden until halfway through the bottle, a big quaff!!',\n",
              " \"review/text: a: quite a ruby red hue... deep, rich, almost sporting a soft glow. there's a bit of a sandy colour in the head. not much for lacing, but the glass seems to be playing a role in that, as it has had a couple different brews in it, all of which laced poorly. \\t\\ts + t: i thoroughly enjoy a good rauch, and this one performs quite well in the traditional 'ham and cheese sandwich' sense. it's not overly smoky, which is a positive thing in that it allows some of the other delicate scents and flavours to shine. of those, i pick up on a light - but noticeable - fruitiness, both in nose and on the palate that seems a little odd. \\t\\tworth note: after writing the above, i noticed the print on the side of the bottle to see that cherry wood is used in addition to beechwood. that would explain the fruitiness noted. \\t\\tm + d: body feels a little lighter in the mouthfeel, but seems to pick up a little weight after going down, however little sense that might make. the alcohol content is perhaps a little high, but a little slower sipping never hurt anyone. not a bad take on the style, though i think i personally would have enjoyed it better if the actual smokiness were a touch more robust.\",\n",
              " 'review/text: pours dark amber with a short white fizzy head that fades fast.\\t\\taroma is bbq and smoked pork, some sweet malt and a touch of chocolate.\\t\\tflavor starts out like a smoked pork sandwhich, nice smooth lagered finish. smoke and sweet malt stick in the mouth something fierce. \\t\\ta beer that performs as advertised, smoke meat and lager all in one, not really a style i want more than one of but still tasty.',\n",
              " 'review/text: this beer pours a very clear and attractive shade of ruby brown. much less dark than i had anticipated, and carrying a diminutive, but attractive head of parchment foam that leaves very nice lace. the smoky aroma of this beer is very nice. it smells like the smoke that would waft from the smoker at a little restaurant in my home town of traverse city, michigan. porky, sweet and delectable with notes of brown sugar. i suddenly have a huge craving for an \"all meat mess.\" the flavor is also quite nice in that the smoke is not too overpowering. other flavors include sweet dark malt, brown sugar, a bit of cinnamon and leather. quite nice and well blended. the body is medium with a mouthfeel that seems a bit sticky, but is pretty good. surprisingly drinkable, and would be great (of course) with bbq. not the first smoked beer i have had, but the first i have reviewed. this one makes me want to seek out more.',\n",
              " \"review/text: 22 oz. bomber, \\t\\ta: pours coppery with a medium head, solid retention, no lace.\\t\\ts: beautiful sweet smoke smell, mix of bock malt and wood/bbq.\\t\\tt: not as intense in the smoke arena as schlenkerla, that's fine. as with the nose, the baked caramel sweetness adds great flavour dimension, with cherry/wood?, mesquite, and sweet bbq sauce. really nice interplay of flavours.\\t\\tm: a tad too light in body for 7.4%, but very smooth, bit creamy.\\t\\td: this is the best of the kettle series i've had. a very well made rauchbier, in the same league as schlenkerla a cheaper price. rare style too. good job caldera.\",\n",
              " \"review/text: a nice 'surprise' tap at bailey's; grabbed a 10 oz. pour ($2.50).\\t\\ta: deep auburn with the finest haziness; a brief ivory head (less than 1/2 finger) crests then dissolves. what remains is a broken swirl of film and a creamy ring. decent streaming carbonation.\\t\\ts: lovely of savory smoke and sugared spiciness...a malty, caramel-laden lager covered gently with grainy husks, burnt yet surprisingly sweet. strong enough to be smelled from 1-foot away in a crowded room. \\t\\tt: toffee and spice (notable cinnamon) with a candied fruit after-effect. oh yeah, a good deal of smoke - a sweet mesquite, reminiscent of barbecued brisket. herbed and a little tang in the finish. enough intonations of fruit and a fleeting tartness.\\t\\tm: velvety feel with a slight prickle (less from carbonation, more from an earthy ground spice). medium body that borders on heaviness (not unexpected: it is over 7%). maltiness coats but isn't cloying; smoke doesn't intrude too much. \\t\\td: despite a heavenly aroma and feel and good flavor, this 'only' can muster a 4.0, simply due to a hefty alcohol girth. it's a touch on the sweet side (ur-bock) but the smokiness is well done. sure it's worth a glass (or two) and is one i'd definitely have again.\",\n",
              " 'review/text: caldera- pale ale\\t\\tpicked up at grape & gourmet (vb)\\t\\ta- light golden orange with a small fluffy white head.\\ts- light citrus and pine hops. slight buttery maltiness.\\tt- buttery biscuity malt with a nice lemon/ grapefruit citrus and pine hop body.\\tm- buttery sweet and malty with a nice sweet and bitter hop bite.\\t\\toverall- nice malt/ hop balance. very good sessionable can!',\n",
              " 'review/text: 12 oz. can poured into a pint glass. i really like cans for beers like pale ales that are not meant for cellaring and am glad to have another one available in socal. cool green tab but sadly no canning or best by date.\\t\\tpours a nice rich gold with a pure white head that grows excessively. slow pour down a tilted glass and cannot even get the whole can into a pint glass. the retention is good, however, and lacing is great. lots of bubbles cascading upwards from the bottom of the glass. the aroma is mild and consists of a bit of hoppy earthiness and some candied oranges.\\t\\tthe flavor starts with a mild hops bittering and quickly adds a touch of sweetness to balance it out. earthy and slightly piney with bitter sappy sugar.. the bittering is not high, but there is little aroma hopping evident or much malt complexity either. this is a very light pale ale with little going on beyond some bittering hops, leaving a slightly floral but vegetal finish. an okay beer for a local brewpub, but not quite up to the standard of most pale ales in distribution. light bodied, creamy, lots of smooth bubbles.\\t\\ta simple beer, but not really in a good way. this needs some more aroma hopping or some other type of complexity. long floral/vegetal finishing damages drinkability. unless one is dying to try a new pale ale, i would not recommend this.',\n",
              " 'review/text: a: pours a cloudy orange with a crisp white two finger head layer. \\ts: slightly citrusy with a bit of hops here, too. \\tt: malty and hoppy, but neither overpowers. very well balanced. \\tm: calm and balanced flavors. \\td: this would be a great beer for a hot summer day. nothing wild, but simply a good beer.',\n",
              " \"review/text: received this can through beer powerball. i am really sorry that i don't know who sent it, my brother is keeping those records, but thank you!!\\t\\tpours with a nice half centimeter white fluffy head on a glass of dark straw-colored beer. smells of citrusy hoppy goodness and oddly, a little like soap. mouthfeel is very pleasant as is taste. \\t\\tthis is a nice drinking beer. it's not blow you away with over-the-top flavor. it's a well-balanced, highly drinkable and enjoyable brew. i'm glad to have gotten the chance to try it.\",\n",
              " 'review/text: 355ml can bought from beersofeurope.com...\\t\\tpoured a golden yellow colour with a slight haze... white head poured fairly thick and foamy then faded to decent light covering... light carbonation... good sticky lacing lines cling to the glass...\\t\\taroma - light maltiness mixed with a good dose of citrusy and peppery hops, pine, tart fruits (grapefruit, lemons, apples), very floral, quite grassy, faint honey sweetness, light breadiness, some sea salt...\\t\\ttaste - good grassy and citrus hop bitterness, light pine, tart fruits (grapefruits, apples), light sweet biscuit malts, peppery, some salty notes, floral and perfumed...\\t\\tfeel - quite smooth with a little bite underneath... light / medium body. very, very quaffable and refreshing...\\t\\toverall - a excellent, straightforward, hoppy apa... recommended...',\n",
              " 'review/text: i received this one in a bif recently and it was the first thing i grabbed out of the fridge when i got home on friday. served cold and poured into a pint glass, this one was consumed on 07/31/2009.\\t\\tappearance - one of the best pours from a pale ale you could possibly ask for. seriously. big head of white foam on top that barely falls back down to earth. wonderful clear amber color that really just looks the part perfectly. lots of carbonation creeping up the glass throughout and a really nice coating of spider like webbing.\\t\\tsmell - aroma is lighter then i would have thought. nice light grains, a touch of piney hops. as it warms a bit of citrus starts to come though, but again, lighter then i would have thought.\\t\\ttaste - crisp, clean, the first sip has a biting touch to it as the pine and citrus start to roll through. nice grains come in mid palate and then it rolls right back into a nice and dry bitter finish. clean aftertaste leaves you to come back and look for a bit more.\\t\\tfeel - light, airy and well carbonated. i had no issue at all with going forward with this one. the feel matched the overall experience very nicely.\\t\\tdrinkability - session able, very nice and clean and easy drinking. again had really no issue at all with putting this one away.\\t\\toverall - solid. nothing earth shattering here but very solid. i would not mind at all grabbing a six pack and heading to the beach. really very well done.',\n",
              " \"review/text: orangeish with a peach head. smell was hoppy. taste was hoppy, not alot else going on. not exciting but not boring either. it was easy to swallow but not alot else. its something i could drink a few of. good if you want a session beer but don't want a strong flavor.\",\n",
              " \"review/text: poured from 12oz can into a clear pint glass. no freshness date. single purchased at wine warehouse (charlottesville, va) for $2.15.\\t\\ta: honey-orange with solid 2-finger ivory head with decent retention and only a crown of lace.\\t\\ts: plenty of hops in this one with above-average pale malt backbone with leafy and grapefruit aromas dominating.\\t\\tt: the flavor is good but a touch flat for the style, owing mainly to the lack of character in the maltload. the malt component is not quite sweet or roasted enough, which leaves a somewhat bland quality to this aspect. the hops are highly bitter and pretty harsh: a little more floral and citrus character would blend better with the ambiguous malting. motwithstanding, this is an above-average apa without a doubt.\\t\\tm: feel is a little thin for the style, although not far off with a medium-light body. carbonation is a bit too short in supply. the aftertaste is very long with bitter and leafy hops notes persisting.\\t\\td: a pretty good apa with a big price tag relatively. solid and highly bitter for the style and could use a little more finesse. still, enjoyable and didn't last long.\",\n",
              " 'review/text: i wish the flavor bore out the strength of the aroma, which it does not, but still not a bad beer.\\t\\tpours a startling straw yellow with a smallish head that falls to nice lacing. the aroma is the strong point - assertively grainy with a crisp hop aroma, mostly grassy with a little flower. i really looked forward to tasting this beer. but it was weaker than i might have hoped, with less of a malt backbone that the aroma suggested and more emphasis on the flowery side of hop character. the bitterness rests, curiously, mostly on the foretaste, with relatively little clinging to the back. the mouthfeel is quite thin, almost insubstantial.\\t\\tthis is a decent beer, but nothing to get excited about.',\n",
              " \"review/text: i'm really enjoying the variety of quality brews in a can i'm finding here in northern california! this was reviewed while camping at castle lake campgrounds in shasta city...i think.\\t\\t ooooh yeah, cracking open a can sounds good!! a thick, solid and rocky -white head stands proud like mt. shasta itself over a bright plae golden liquid, much like the n.cali sunsets. retention is amazing, it's not going anywhere anytime soon.\\t\\t the nose is just bursting with hoppy cascade aroma's!! sweet fruits, musty herbs, wheat and corn and light but sweet malt. this all cascade beauty has a great aroma.\\t\\t the hoppy flavor's here are deep and very complex, cascade hoppiness all in my face. light and very, very crispy feel is exciting and spot-on for the style. crisp with a creamy smooth finish from the beastie foam still clumping it's way down slow. the cascade hops provide a gentle fruitiness and perfect dry-herbal and earthy complexity. i havn't been this excited for a pale ale since my very first sierra nevada!!(circa 1996)\\t\\t this pale ale in a can has made my day, and i'm camping in one of the most pristine locations i've ever been too. this is simply one of, if not the best pale ale i've ever had. bring on the cans!!!\",\n",
              " \"review/text: 12 oz. can, poured into a tulip.\\t\\tsee-thru deep gold body with a finger's worth of creamy off-white head. pretty good retention and lacing.\\t\\tfairly strong citrusy hop bouquet with a pleasant mild sweetness and biscuity malt. smells like it will be a crisp, dry brew.\\t\\tand so it proves to be. there's a bit of honeyish sweetness up front, but it's immediately bullied around by a tag team of citrus (orange zest and grapefruit) and sharp pine needle flavors. there's a bit of earthiness in there, too. \\t\\tthe sweetness dries up torward the finish as the citrus is joined by some pine needles for a sharp sting of bitterness and a rather 'scratchy' mouthfeel. after a couple of seconds, the bitterness is chased away by a crisp snap of biscuity malt. carbonation is lively, and the beer starts off as seemingly medium-bodied, but 'fluffs up' in to something pretty substantial. \\t\\toverall impression: excellent apa. bold and flavorful, yet incredibly drinkable.\",\n",
              " \"review/text: pours a deep shade of gold with a fluffy ecru head.\\t\\tthe aroma is biscuity, bolstered by grapefruit hops.\\t\\tthe brew slides across the tongue, nice and oily. malt and hops hold together in a nice balance, the hops always penetrating but never dominating. a tad sweeter than i'd like with a mild butter profile.\\t\\tthis is a good, but not great, beer.\",\n",
              " \"review/text: pours a clear golden color with a slight orange hue. a one inch bright white head sits on top and lingers with decent retention and it leaves a nice collar of lace behind.\\t\\tthe aroma is decent. there's a slight hop presence giving a bit of citrus. there's a slight sweetness theres as well as a nice pale malt profile.\\t\\tthe taste is ok. there's a slight hop presence giving a bit of citrus. it's well balanced with a big malt presence. nice overall.\\t\\tmouthfeel is medium bodied and nicely carbonated.\\t\\tdrinkability is fairly high. it's easily sessionable, and the flavor profile is decent for a pale. no major complaints.\",\n",
              " \"review/text: a - poured out a clear, orange color with gold highlights. it had a foamy, fizzy, one-finger layer of white foam that left minimal lacing.\\t\\ts - it had a moderately grassy aroma with notes of orange. it also had a gentle caramel scent.\\t\\tt - it tastes of bitter grassy hops with a snappy, spice flavor. the ale also had a burnt toast maltiness.\\t\\tm - it was sharp and lively on the tongue. a light bodied pale ale.\\t\\td - this is a pleasant tasting pale ale. it's nice to have a sessionable ale in a can.\",\n",
              " 'review/text: a 12 oz can from liquid solutions.\\t\\ta: the pale ale is appropriately pale, a light golden hue that has more yellow than orange in the mix. the light color has a slight haze to it. a finger of head left dry patches of lace around the mouth of the glass.\\t\\ts: the aroma is mostly malty, sweet with a thick bready presence. hops are just below the malts with a less assertive citrus body of lemon and grass.\\t\\tt: the hops are far more aggressive in the taste, showing off a grassy taste that quickly goes citrus. the hops are agressive, coming close to turning this into an ipa. the malty breads are well-balanced against the hops, especially later in each sip. the carbonation keeps the hop profile lively.\\t\\tm: the hop profile needs some time to come through. when it does, the hops leave a very nice finish.\\t\\td: the full hop profile makes the ale taste bigger than it is. other than that, this is another example of a good pale ale in a can.',\n",
              " 'review/text: poured into pint glass.\\t\\ta - reminiscent of a pilsner more than an apa, 2 fingers of white head, head lasted a while, just kinda floated there\\t\\ts - light hints of citrus, mostly grapefruit and lemon, maybe a little bready\\t\\tt - hop blast, pretty bitter and dry, follows the smell closely\\t\\tm - good carbonation, good body for the style, not too light and certainly not heavy\\t\\td - great for a canned beer, cant beat the portability and taste, just started to get the caldera brews in my local beer store, will continue to try new ones',\n",
              " 'review/text: pours a pale straw gold with a frothy light 2 finger head. decent retention. good lacing. nice carbonation.\\t\\tnose is faint, with pine and light citrus coming through. slightly yeasty.\\t\\tvery sharp on the tongue. bitter, but more than hops contributing to this aspect of the flavor. odd that the bitterness tends to fade before the taste does.',\n",
              " 'review/text: pours a crisp clear pale gold color with a small head that dissipates rather quickly.\\t\\thas a bitter hoppy pine and citrus smell. very pungent for a apa.\\t\\tbitter bite hits right away and fades to a smooth caramel malty biscuity flavor. not very complex, but good tastes none the less.\\t\\ta very light smooth beer. very sessionable could def hammer a few of these back.',\n",
              " 'review/text: grabbed a single at state line\\t\\ta: clear light orange with a finger-thick off white head. decent retention and lacing.\\t\\ts: citrus hops and a biscuity malt and a mild honey like character. orange and grapefruit contribute to the aroma with a little sharp pine in the back\\t\\tt: opens up with a chalky orange and citrus hop flavor, with a very light malt sweetness present. balance is tilted in favor of flavor hops, with a touch of citrus rind bitterness on the finish.\\t\\tm: light in body, great carbonation and a solid finish\\t\\td: i will revisit this, especially come camping season',\n",
              " 'review/text: poured from the can a clear golden hue with two fingers of bright white head. good lacing all around.\\t\\taroma is slightly sour and malty much like a pilsner. a slight whiff of sulfur and vegetables as well.\\t\\tthe taste has a bitter edge along with malt and biscuit.\\t\\tlighter bodied, dry, and moderately carbonated.\\t\\tpretty drinkable, but this is a fairly decent pale ale that sits in the middle of the pack.',\n",
              " \"review/text: pours a clear gold with some amber hues. three + fingers of white head slowly dissipates to a finger's width of foamy capping with some good spotty lacing. smells of honey, toasted grain, floral hops, and a touch of citrus. tastes of citrus juice up front followed by grainy bread and a honey/caramel sweetness with just a touch of butter. finishes with some dry grass and spicy hop bitterness. medium in body with gentle carbonation. a tad bit watery in places, but overall balanced, solid, and smooth with a crisp dry finish. a pleasant pale ale that is easy to drink and quite sessionable. very flavorful, and pretty ipa-ish for a pale ale, i like it!\",\n",
              " \"review/text: pours a crystal-clear light golden hue with lemon and straw highlights. a light foamy one-plus-finger has descent retention, fading to leave behind some stellar lacing. \\t\\taroma if light pale malt and fresh clean hopping. citrus, pine, hints of lemon, grapefruit, orange, and a smidgen of pineapple. a touch of grassiness and a bit of hard to pinpoint spiciness - yeast?\\t\\ttastes deliciously hoppy, as a good oregon pale would be expected to. citrus leads, followed by a touch of pine and some tropical fruit notes of pineapple and manilla mango. some subtle spicy hops add a bit more depth than the average apa. just enough light malting to be detectable without coming across malty. \\t\\tsmooth and clean with a moderate body for a pale and ample clean carbonation to provide a nice finish. a lingering hop bitterness pairs with just a hint of caramel sweetness on the tongue to keep me happy and wanting more.\\t\\ti've been a long-time caldera fan, and it's become one of my go to apas - not just from a can. the can is just an added bonus. unbelievably drinkable, the hops are strong but not overpowering, the malt and sweetness just enough to keep me addicted. definitely a must-try.\",\n",
              " \"review/text: poured from a can into a pint glass.\\t\\ta: pours clear, golden color with a one-finger off-white head that quickly leaves.\\t\\ts: aroma is light & simple, floral citrus hops with some caramel malts lingering on the tale end.\\t\\tt: more than expected from the aroma. lots of citrus flavors, grapefruit, lemon, orange & a bit of toasted malt. very clean & tasty! can't wait for another sip!\\t\\tm: medium-full, kind of oily, moving to a crisp off-dry some what spicy finish.\\t\\td: fantastic drinkability! a huge fan of what caldera is doing with cans. awesome for camping/hiking, skiing, fishing, or anything where you don't want the weight of a bottle, but the quality of a micro brew. easy to pack-in & pack-out.\",\n",
              " \"review/text: thanks to thirstyhophead, who introduced me to the pleasures of the caldera ipa, & threw this can into a subsequent trade. i don't dare hope it'll be as good. \\t\\tlovely brew poured into my lost abbey chalice, with a nice shade of yellow, not piss-yellow like bud, but more amber & deeper. smells like a pale ale. \\t\\tthis is a nice brew. the flavor is present & accounted for without being overwhelming. i think this would be a superb gateway beer for a bmc drinker - there's not so much flavor to cause anyone to drop their coors light & run screaming, but it has enough for us dedicated beer freaks to have a sip & go...mmm. that's nice. the lighter flavor, i've noticed, encourages bigger sips, & i'm trying not to gulp this one down too fast. it's a long night. pace yourself. \\t\\tdid i hear session beer? this would be a great beer to find on tap at the local pub, tasty, easy-drinking, but with a low enough abv that you're not playing bumper cars in the lot after three of them. that's two very good beers from this mystery brewery. i will stop by if i'm ever in the neighborhood.\",\n",
              " 'review/text: a: clear golden colored ale capped by a one-finger off white head, average retention\\t\\ts: primarily tropical hops on the nose, pulpy and above the strength typically found in the style, malts contribute little aside from a light grain sweetness, pretty nice\\t\\tm: light-medium carbonation and body\\t\\tt: simple pale malt base provides flavors of honeyed grain, pulpy topical hop flavor with a sharp, clean citrus bite, moderate bitterness, more malt character would be beneficial here\\t\\td: all said, this is an enjoyable beer though on the pricey side for what it is\\t\\tsingle from grape & gourmet, virginia beach, va',\n",
              " 'review/text: a new beer for the tidewater virginia area, grape and gourmet had it. 12 0z can. appearance is pretty average: straw color, fairly clear, small to medium pillowy white head, no lacing, less than average head retention.\\t\\tsmell is fairly average also, some hops. tastes pretty good. a malty backbone with some hint of floral and piney hops throughout and a definite hops finish.\\t\\tmouthfeel is crisp and fairly rich for the style. not a watery bmc.\\t\\tdrinkability is solid. this is a session oriented beer..especially for warm weather. i could do several of these. if we had this one on tap, it would be a real summertime winner.',\n",
              " 'review/text: pours out a pale straw like color with a bubbly 2 finger deep white head.\\t\\tsmells of light flowery cascade hoppiness, pine, spruce, tropical.\\t\\tflavor is soft bisquity maltiness, piney hops, faint caramel sweetness, earthy tone, nicely balanced.\\t\\tcrisp, clean, light to medium bodied, lingering bitterness.\\t\\thighly drinkable. excellent summer session brew. should be a campsite/cooler standard.',\n",
              " \"review/text: 12 oz can into a pint glass. \\t\\tpours a clear gold with several fingers of foamy cream colored head. 1/4 finger of smooth retention stays strong, leaving some good spotty lacing back. the aroma is very pleasant smelling, being floral and a touch spicy with a steady underpining of citrus and toasted malts. \\t\\tthe taste is citric with some buttery bread and a dab of caramel. this tightens into a firmer bitterness towards the back of the swallow. the mouthfeel is medium bodied with an easy and creamy overall feel but i was pleased to find a bit of firmness underneath as well that adds some gravitas to the body. \\t\\tvery solid pale ale here with a nice tight profile that is solidly drinkable. i'm digging the portibility of this in cans as well. i'm definitely looking foward to more of these.\",\n",
              " \"review/text: can from beer run, charlottesville, va, enjoyed on site during super bowl sunday. poured into a traditional american pint glass that came chilled, so i had to give it a chance to warm and wipe it down.\\t\\tappearance: pours a surprisingly light and transparent golden yellow - i'm hesitant to say urine, but, you know - with an initially foamy two-finger head that fades into a relatively healthy sheen pretty quickly and leaves lots of scraggly, fluffy, cloud-like lacing streaming upwards towards the rim. the collar if thick and fluffy, though light looking. a solid start.\\t\\taroma: buttery, slightly spicy malt notes, cracker and biscuit-like, with a few light fruity esters - perhaps hoppy in origin, perhaps yeasty in origin, coming across as pineapple in places - mingling with some heavier, definitively hoppy citrus notes, and plenty of grassy, spicy notes. perfectly pleasant.\\t\\ttaste: very balanced for a pale ale, almost esb like. the malt profile here is large and in charge, very graham cracker/biscuit like, perhaps slightly buttery in places. malt bitterness is mild to perhaps moderate, slightly herbal and grassy, lacking a lot of those good west coast hop notes that i'd like out of, well, a west coast hopped ale. it's almost cinnamony in places, probably a result of the hop notes. odd but interesting.\\t\\tmouthfeel: incredibly smooth and soft, gently carbonated, leading to a very creamy and subtle mouthfeel, a feel which works well with the malt profile on this one. very very nice.\\t\\tdrinkability: this was a strange and somewhat unexpected brew. not quite your traditional west coast pale ale, heavy on the bitterness, citrus, and minty hops with a heavily roasted but still sweet malt backbone to back it up; this one is more heavy on lighter, spicier, grassy hop notes and has a surprisingly light and dry malt foundation. nonetheless, it's still nice, pleasant, and went well with the first six minutes of superbowl xliii!\",\n",
              " 'review/text: pours a pale golden hue with a substantial fluffy head that disipates within a minute or so.\\t\\tsmell is quite appetizing sweet spicy malts with floral hopped background. \\t\\ttastes of spiced bread, warming alchole flavor floral hopes, nice and bitter. very suprised bought this thinking it was going to be mediocor which its not at all.\\t\\tmouthful creamy coats the mouth flavor lingers just right.\\t\\tdrinkablity is good, abv 5.4%',\n",
              " \"review/text: 12oz can into nonic.\\t\\tvery pale golden hue with a slight haze. a two finger off white head slowly settles to a thin even cap, leaving behind a solid wall of lacing. \\t\\tbready malt tones in the background. the hops provide light citrusy aroma with a light spiciness. \\t\\tslightly sweet biscuity grain flavor sets up a base for a light hop bitterness. a little diacetyl is in there as well. the hops have a light herbal flavor to them. full bodied. \\t\\tseemed a bit pricey ($12 per 6'er) for what i got. it's a good pale ale, and rather sessionable, but for a dollar more i could get bell's hopslam or troeg's nugget nectar. not that those beers are necessarily and better or more desirable, but you get a hyped high gravity beer for a dollar more that an ordinary pale ale? anyway, it's an enjoyable beer. recommended.\",\n",
              " 'review/text: a: quite a pale yellowish amber... not pale like something like rolling rock, but it\\'s a lighter one, and suitable to the name. a mediocre little white head forms on top leaving little fanfare - some sticking here and there, kinda patchy. \\t\\ts: tropical fruit comes to mind right away... pineapple, in particular - some peach and pear. surprisingly fruity, but not in an alarmingly sweet sort of way. there\\'s a leafiness to the hops, as well. kinda like if a canned dole snack was hopped. \\t\\tt: herbal and slightly citrusy hops. the pineapple-like flavour is there as it is in the aroma. i wasn\\'t sure what to expect from this brew, but it\\'s quite tasty. \\t\\tm + d: kind of lacking in body and carbonation - not flat, but almost \"muddy.\" something is missing here, though i can\\'t place a finger on what. all in all, it\\'s quite a tasty brew, but the price is very high in these parts (virginia). they offer reasons as to why they cost more on the webpage, but i have trouble with the reasoning for it. that alone would be the deal-breaker for buying more, unfortunately. if cost of a product is not an issue, by all means, get some - it is good beer!',\n",
              " 'review/text: 12oz can. \\t\\tpoured a light to medium and slightly hazy golden color with a smaller sized off white head. aromas of grass, wet hay, citrus and a little fruity. tastes of citrus, grain, and fruits. starts with a light honey sweetness and ends in a light grapefruit bitter finish. body on the thin and weak side. some lacing left on the glass. \\t\\tnotes from: 12/22/05',\n",
              " \"review/text: 12oz can courtesy of reino poured into a pint glass.\\t\\tpours a clear light golden with a decent creamy white head that hung on as a cap for a while leaving good lacing.\\t\\tthe aroma is very light with lots of lemony hops up front and a bit of bready malts as well. \\t\\tthe flavor had the light citrus up front with the malts in the middle before giving way to some faint pine hop bitterness in the finish.\\t\\tthe mouthfeel is highly carbonated and lighter than most pale ales.\\t\\tthis is a very drinkable pale that doesn't have too much differentiation but is still tasty.\",\n",
              " 'review/text: thanks to flexabull for sending this for the survival football lif. poured from can into mcchouffe tulip, appears clear light golden yellow. about 2\" of thick white fluffy head, settles slowly leaving a rocky top with some thick clumpy lacing. smell is pretty simple pale ale, a little citrus, subtle earthiness. taste is lots of sour citrus, a little pine, backed up with just enough malt. mouthfeel is medium up front, but the finish becomes more oily and resinous, leaving the mouth coated with some lingering sour bitterness. drinkability is super high, would be easy to down a few of these in a night.',\n",
              " \"review/text: poured from a 12oz can into a 20oz imperial pint.\\t\\ta: pours a crystal-clear, bright golden color with some lazy trails of carbonation. capping this was a pillowy, off-white 1 finger head that quickly dissolved to a splotchy skim that left a fair amount of lace.\\t\\ts: aromas of spicy pine, mild citrus, and sweet caramel. pretty simple and very clean.\\t\\tt: see above. add in a little toasty malt and a bit more citrus (than what's in the aroma). again, pretty simple and very clean.\\t\\tm: full and pretty oily with a turn towards some dry and spicy astringency during the middle that continues on through the finish. also finishes pretty peppery.\\t\\td: fantastic drinkability! in this age of extreme everything it's sometimes refreshing to get a hold of something so simple and satisfying.\",\n",
              " \"review/text: i wanted to like this beer. i really did. i love the town it comes from - ashland, oregon - and i thought to myself that a place like ashland must have the creative spirit to produce something unique. well, this beer was unique, alright. i can't recall ever drinking another beer with a hop flavor like boiled vegetables. blech! appearance was average, and head retention was so-so. i noticed no lacing whatsoever. smell did not reveal what the taste had in store. on first sip, i noticed nothing immediately untoward, but as the hop flavor built so did the unwelcome overcooked-vegetable flavor. i tried another can the next day thinking that maybe i just had a bad one, but with the same result. i'm afraid i won't be trying this one again, and wouldn't recommend it to anybody else. you could do worse, but to me this beer would be a last resort before having to accept a macrobrew.\",\n",
              " \"review/text: i bought a six-pack of caldera pale ale at a grocery store. poured in to a pint glass.\\t\\tpours a rich gold color and is ever so slightly hazy. creamy white head caps the beer and is quite resilient. the head dissipates in ridges and valleys, finally getting down to small islands of foam on the surface of the brew..\\t\\tsmell is fairly faint. some hoppy fruity esters perhaps, but generally unremarkable.\\t\\ttaste is a bitter flavor, like sour citrus. a little malt flavor sneaks in too. strong flavors for a pale, almost approaching what one would expect from an ipa.\\t\\tmouthfeel is light, crisp and clean, but dry. not watery, but light on the tongue. \\t\\ta drinkable pale ale, but i think the sour citrus flavor is a bit over done for the style. i'd have this again though. the packaging (cans) are great for camping, tailgates and the like, but it's a bit overpriced in my area at $8 a sixer.\",\n",
              " \"review/text: yum! i really love these canned craft brews. it's really a great way to package beer. it's fresher, doesnt get oxidized or uv-damaged, cools faster, and is so much easier for camping, events, etc. \\t\\tgolden color and slightly chill hazed. decent head, but it falls away kinda quick. \\t\\taroma is a bit disapointing. it's really kind of mild. some floral and herbal sweet hops, then some dry caramel malt. \\t\\treally makes up for it in the taste! rich grapefruit and sour lemon. the bitter citrus flavors of orange and some tropical fruits in there too. a tad of toasty honey sweetness to counteract it. so drinkable, and so tasty.\\t\\ti was down in ashland the other month, but these guys only do dock sales. ill be stopping by next time for a case.\",\n",
              " 'review/text: a- nice golden color. looks what a pale ale should. there is very little head, which resembles that of something that is going to have a lot of hops. we will see...\\t\\ts- why yes i can smell those wonderful whole flower cascade hops. \\t\\tt- there is a nice maltyness with this beer. not so much of a hop taste, but it is there. \\t\\tm- feels a bit slimy, or at least makes my mouth become slimy.\\t\\td- i can drink it with the greatest of ease.',\n",
              " \"review/text: appearance: golden amber with the slightest haze and a nice sticky two finger head.\\t\\tsmell: lots of signature cascade aroma - citrusy with a touch of pine.\\t\\ttaste & mouthfeel: juicy citrus hop flavors supported by a dry biscuity malt backbone. medium-light in body, crisp, dry. moderate bitterness in the finish, though it doesn't linger too long. very clean stuff, and incredibly drinkable. this reminds me quite a bit of sierra nevada pale ale, but more raw and flavorful.\"]"
            ]
          },
          "metadata": {
            "tags": []
          },
          "execution_count": 25
        }
      ]
    },
    {
      "cell_type": "code",
      "metadata": {
        "id": "EYHB8z46rsDW",
        "colab_type": "code",
        "colab": {}
      },
      "source": [
        "# clean the data \n",
        "def clean_text(string):\n",
        "    \"\"\"\n",
        "    This function cleans the input string from punctuation and other elements\n",
        "    that are unwanted in the review text for analysis.\n",
        "    \"\"\"\n",
        "    temp = string\n",
        "    temp = re.sub(r\"[^A-Za-z0-9(),!?\\'\\`]\", \" \", temp)\n",
        "    temp = re.sub(r\"\\'s\", \" \\'s\", temp)\n",
        "    temp = re.sub(r\"\\'ve\", \" \\'ve\", temp)\n",
        "    temp = re.sub(r\"\\'re\", \" \\'re\", temp)\n",
        "    temp = re.sub(r\"\\'d\", \" \\'d\", temp)\n",
        "    temp = re.sub(r\"\\'ll\", \" \\'ll\", temp)\n",
        "    temp = re.sub(r\",\", \" , \", temp)\n",
        "    temp = re.sub(r\"!\", \" ! \", temp)\n",
        "    temp = re.sub(r\"\\(\", \" \\( \", temp)\n",
        "    temp = re.sub(r\"\\)\", \" \\) \", temp)\n",
        "    temp = re.sub(r\"\\?\", \" \\? \", temp)\n",
        "    temp = temp.replace('review text','')\n",
        "    temp = temp.replace(\"?\",\"\")\n",
        "    temp = temp.replace('\\t','')\n",
        "    temp = temp.replace('review/text:','')\n",
        "    temp = temp.replace(',','') \n",
        "    temp = temp.replace('.','')\n",
        "    temp = temp.replace('(','')\n",
        "    temp = temp.replace(')','')\n",
        "    temp = temp.replace(\"?\",\"\")\n",
        "    temp = temp.replace('/','')\n",
        "    temp = temp.replace('-','')\n",
        "    temp = temp.replace('!','')\n",
        "    temp = temp.replace('&','')\n",
        "    temp = temp.replace('*','')\n",
        "    temp = temp.replace('$','')\n",
        "    temp = temp.replace('#','')\n",
        "    temp = temp.replace('@','')\n",
        "    temp = temp.replace(\"'\",\"\")\n",
        "    temp = temp.replace(\"\\\\\", \" \")\n",
        "    temp = re.sub(r\"\\s{2,}\", \" \", temp)\n",
        "    return temp\n",
        "\n",
        "review_text_clean = []\n",
        "\n",
        "for i in range(len(review_text)):\n",
        "    review_text_clean.append(clean_text(review_text[i]))\n",
        "\n"
      ],
      "execution_count": 0,
      "outputs": []
    },
    {
      "cell_type": "code",
      "metadata": {
        "id": "e77rEhHYtNNE",
        "colab_type": "code",
        "outputId": "e4aa8854-02b3-40b2-df75-63a511b558de",
        "colab": {
          "base_uri": "https://localhost:8080/",
          "height": 35
        }
      },
      "source": [
        "del beeradvocate\n",
        "del review_overall_label\n",
        "del review_taste_label\n",
        "del review_palate_label\n",
        "del review_aroma_label\n",
        "del review_appearance_label\n",
        "del review_overall_label_df\n",
        "del review_taste_label_df\n",
        "del review_palate_label_df\n",
        "del review_aroma_label_df\n",
        "del review_appearance_label_df\n",
        "del review_text\n",
        "\n",
        "import gc\n",
        "\n",
        "gc.collect()\n",
        "gc.collect()"
      ],
      "execution_count": 0,
      "outputs": [
        {
          "output_type": "execute_result",
          "data": {
            "text/plain": [
              "0"
            ]
          },
          "metadata": {
            "tags": []
          },
          "execution_count": 27
        }
      ]
    },
    {
      "cell_type": "code",
      "metadata": {
        "id": "lzI-XTu9w5GW",
        "colab_type": "code",
        "colab": {}
      },
      "source": [
        "#review_text_clean_pd = pd.DataFrame(review_text_clean, columns=['Review text'])"
      ],
      "execution_count": 0,
      "outputs": []
    },
    {
      "cell_type": "code",
      "metadata": {
        "id": "oISWbSrMdS1f",
        "colab_type": "code",
        "colab": {}
      },
      "source": [
        "#new_df = pd.concat([review_text_clean_pd, data_df], axis=1)"
      ],
      "execution_count": 0,
      "outputs": []
    },
    {
      "cell_type": "code",
      "metadata": {
        "id": "HU1ykKjZ_bW6",
        "colab_type": "code",
        "colab": {}
      },
      "source": [
        "#new_df.to_csv('new_df.csv', index=False)"
      ],
      "execution_count": 0,
      "outputs": []
    },
    {
      "cell_type": "code",
      "metadata": {
        "id": "TrHpDrKwhxls",
        "colab_type": "code",
        "colab": {}
      },
      "source": [
        "#new_df = pd.read_csv('new_df.csv')"
      ],
      "execution_count": 0,
      "outputs": []
    },
    {
      "cell_type": "markdown",
      "metadata": {
        "id": "JlhLktinmSdA",
        "colab_type": "text"
      },
      "source": [
        "To make sure the models do not take ages to run, we decided to randomly sample the data."
      ]
    },
    {
      "cell_type": "code",
      "metadata": {
        "id": "On5sRx4pj2xS",
        "colab_type": "code",
        "colab": {}
      },
      "source": [
        "#sample_data_50k = new_df.sample(n=50000, random_state=42).reset_index(drop=True)\n",
        "#sample_data_100k = new_df.sample(n=100000, random_state=42).reset_index(drop=True)"
      ],
      "execution_count": 0,
      "outputs": []
    },
    {
      "cell_type": "code",
      "metadata": {
        "id": "kQt1RLccj9Fb",
        "colab_type": "code",
        "colab": {}
      },
      "source": [
        "#sample_data_50k.to_csv('50k_data_sampled.csv', index=False)\n",
        "#sample_data_100k.to_csv('100k_data_sampled.csv', index=False)"
      ],
      "execution_count": 0,
      "outputs": []
    },
    {
      "cell_type": "code",
      "metadata": {
        "id": "cKgwejE6mL6K",
        "colab_type": "code",
        "colab": {}
      },
      "source": [
        "#sample_data_50k = pd.read_csv('50k_data_sampled.csv').reset_index(drop=True)\n",
        "#sample_data_100k = pd.read_csv('100k_data_sampled.csv').reset_index(drop=True)"
      ],
      "execution_count": 0,
      "outputs": []
    },
    {
      "cell_type": "code",
      "metadata": {
        "id": "zGFdxQtSsJ0Y",
        "colab_type": "code",
        "colab": {}
      },
      "source": [
        "tokenizer = ToktokTokenizer()\n",
        "\n",
        "sample_data_50k['Tokenized Text'] = sample_data_50k['Review text'].apply(tokenizer.tokenize)\n",
        "\n",
        "sample_data_50k = sample_data_50k.drop(['Review text'], axis=1)"
      ],
      "execution_count": 0,
      "outputs": []
    },
    {
      "cell_type": "code",
      "metadata": {
        "id": "LSZwIYwUzEbJ",
        "colab_type": "code",
        "colab": {}
      },
      "source": [
        "#sample_data_50k.to_csv('Clean_dataset.csv', index=False)"
      ],
      "execution_count": 0,
      "outputs": []
    },
    {
      "cell_type": "markdown",
      "metadata": {
        "id": "N7wBjQd38dfY",
        "colab_type": "text"
      },
      "source": [
        "### Run from here for reduced runtime"
      ]
    },
    {
      "cell_type": "code",
      "metadata": {
        "id": "PaswZxxrz-rq",
        "colab_type": "code",
        "colab": {}
      },
      "source": [
        "df = pd.read_csv('Clean_dataset.csv')"
      ],
      "execution_count": 0,
      "outputs": []
    },
    {
      "cell_type": "code",
      "metadata": {
        "id": "XiFAanSx0EVp",
        "colab_type": "code",
        "outputId": "7da0deb6-177a-48b0-9705-89124bcebf45",
        "colab": {
          "base_uri": "https://localhost:8080/",
          "height": 528
        }
      },
      "source": [
        "df"
      ],
      "execution_count": 0,
      "outputs": [
        {
          "output_type": "execute_result",
          "data": {
            "text/html": [
              "<div>\n",
              "<style scoped>\n",
              "    .dataframe tbody tr th:only-of-type {\n",
              "        vertical-align: middle;\n",
              "    }\n",
              "\n",
              "    .dataframe tbody tr th {\n",
              "        vertical-align: top;\n",
              "    }\n",
              "\n",
              "    .dataframe thead th {\n",
              "        text-align: right;\n",
              "    }\n",
              "</style>\n",
              "<table border=\"1\" class=\"dataframe\">\n",
              "  <thead>\n",
              "    <tr style=\"text-align: right;\">\n",
              "      <th></th>\n",
              "      <th>Overall Score</th>\n",
              "      <th>Taste Score</th>\n",
              "      <th>Palate Score</th>\n",
              "      <th>Aroma Score</th>\n",
              "      <th>Appearance Score</th>\n",
              "      <th>Tokenized Text</th>\n",
              "    </tr>\n",
              "  </thead>\n",
              "  <tbody>\n",
              "    <tr>\n",
              "      <th>0</th>\n",
              "      <td>4.0</td>\n",
              "      <td>4.0</td>\n",
              "      <td>4.0</td>\n",
              "      <td>4.5</td>\n",
              "      <td>4.0</td>\n",
              "      <td>['on', 'tap', 'at', 'the', 'brick', 'store', '...</td>\n",
              "    </tr>\n",
              "    <tr>\n",
              "      <th>1</th>\n",
              "      <td>3.5</td>\n",
              "      <td>2.5</td>\n",
              "      <td>3.5</td>\n",
              "      <td>2.5</td>\n",
              "      <td>3.0</td>\n",
              "      <td>['very', 'underachieving', 'dont', 'find', 'ma...</td>\n",
              "    </tr>\n",
              "    <tr>\n",
              "      <th>2</th>\n",
              "      <td>2.5</td>\n",
              "      <td>2.5</td>\n",
              "      <td>2.5</td>\n",
              "      <td>3.0</td>\n",
              "      <td>3.5</td>\n",
              "      <td>['blind', 'tasting', 'at', 'my', 'brother', 'i...</td>\n",
              "    </tr>\n",
              "    <tr>\n",
              "      <th>3</th>\n",
              "      <td>2.5</td>\n",
              "      <td>2.0</td>\n",
              "      <td>2.5</td>\n",
              "      <td>2.0</td>\n",
              "      <td>3.5</td>\n",
              "      <td>['the', 'beer', 'board', 'claims', 'this', 'is...</td>\n",
              "    </tr>\n",
              "    <tr>\n",
              "      <th>4</th>\n",
              "      <td>4.5</td>\n",
              "      <td>4.0</td>\n",
              "      <td>4.5</td>\n",
              "      <td>4.5</td>\n",
              "      <td>5.0</td>\n",
              "      <td>['this', 'was', 'purchased', 'as', 'a', 'singl...</td>\n",
              "    </tr>\n",
              "    <tr>\n",
              "      <th>...</th>\n",
              "      <td>...</td>\n",
              "      <td>...</td>\n",
              "      <td>...</td>\n",
              "      <td>...</td>\n",
              "      <td>...</td>\n",
              "      <td>...</td>\n",
              "    </tr>\n",
              "    <tr>\n",
              "      <th>49995</th>\n",
              "      <td>3.5</td>\n",
              "      <td>3.5</td>\n",
              "      <td>4.0</td>\n",
              "      <td>3.0</td>\n",
              "      <td>4.0</td>\n",
              "      <td>['16', '09oz', 'dark', 'brown', 'bottle', 'dat...</td>\n",
              "    </tr>\n",
              "    <tr>\n",
              "      <th>49996</th>\n",
              "      <td>3.5</td>\n",
              "      <td>3.5</td>\n",
              "      <td>3.5</td>\n",
              "      <td>3.5</td>\n",
              "      <td>2.5</td>\n",
              "      <td>['the', 'typical', '22', 'ounce', 'bottle', 'p...</td>\n",
              "    </tr>\n",
              "    <tr>\n",
              "      <th>49997</th>\n",
              "      <td>5.0</td>\n",
              "      <td>5.0</td>\n",
              "      <td>4.0</td>\n",
              "      <td>4.0</td>\n",
              "      <td>4.5</td>\n",
              "      <td>['this', 'is', 'one', 'of', 'the', 'more', 'un...</td>\n",
              "    </tr>\n",
              "    <tr>\n",
              "      <th>49998</th>\n",
              "      <td>3.0</td>\n",
              "      <td>4.0</td>\n",
              "      <td>4.5</td>\n",
              "      <td>3.5</td>\n",
              "      <td>4.0</td>\n",
              "      <td>['pour', 'is', 'super', 'deep', 'brown', 'with...</td>\n",
              "    </tr>\n",
              "    <tr>\n",
              "      <th>49999</th>\n",
              "      <td>4.0</td>\n",
              "      <td>4.0</td>\n",
              "      <td>3.5</td>\n",
              "      <td>3.5</td>\n",
              "      <td>4.0</td>\n",
              "      <td>['thanks', 'goes', 'out', 'to', 'buebie', 'for...</td>\n",
              "    </tr>\n",
              "  </tbody>\n",
              "</table>\n",
              "<p>50000 rows × 6 columns</p>\n",
              "</div>"
            ],
            "text/plain": [
              "       Overall Score  ...                                     Tokenized Text\n",
              "0                4.0  ...  ['on', 'tap', 'at', 'the', 'brick', 'store', '...\n",
              "1                3.5  ...  ['very', 'underachieving', 'dont', 'find', 'ma...\n",
              "2                2.5  ...  ['blind', 'tasting', 'at', 'my', 'brother', 'i...\n",
              "3                2.5  ...  ['the', 'beer', 'board', 'claims', 'this', 'is...\n",
              "4                4.5  ...  ['this', 'was', 'purchased', 'as', 'a', 'singl...\n",
              "...              ...  ...                                                ...\n",
              "49995            3.5  ...  ['16', '09oz', 'dark', 'brown', 'bottle', 'dat...\n",
              "49996            3.5  ...  ['the', 'typical', '22', 'ounce', 'bottle', 'p...\n",
              "49997            5.0  ...  ['this', 'is', 'one', 'of', 'the', 'more', 'un...\n",
              "49998            3.0  ...  ['pour', 'is', 'super', 'deep', 'brown', 'with...\n",
              "49999            4.0  ...  ['thanks', 'goes', 'out', 'to', 'buebie', 'for...\n",
              "\n",
              "[50000 rows x 6 columns]"
            ]
          },
          "metadata": {
            "tags": []
          },
          "execution_count": 23
        }
      ]
    },
    {
      "cell_type": "code",
      "metadata": {
        "id": "6v-CR8GmGY7O",
        "colab_type": "code",
        "colab": {}
      },
      "source": [
        "df['Tokenized Text'] = df['Tokenized Text'].str.split(',')"
      ],
      "execution_count": 0,
      "outputs": []
    },
    {
      "cell_type": "code",
      "metadata": {
        "id": "JYYtn9JHGdI7",
        "colab_type": "code",
        "colab": {}
      },
      "source": [
        "df_test = df['Tokenized Text'].iloc[0:20]"
      ],
      "execution_count": 0,
      "outputs": []
    },
    {
      "cell_type": "code",
      "metadata": {
        "id": "Iv22gCFcGhV1",
        "colab_type": "code",
        "outputId": "c4ca1072-5db7-4eaa-fd15-1792e3ce6a7a",
        "colab": {
          "base_uri": "https://localhost:8080/",
          "height": 392
        }
      },
      "source": [
        "df_test_tags = df_test.apply(nltk.pos_tag)\n",
        "df_test_tags"
      ],
      "execution_count": 0,
      "outputs": [
        {
          "output_type": "execute_result",
          "data": {
            "text/plain": [
              "0     [(['on', JJ), ( 'tap', NNP), ( 'at', NNP), ( '...\n",
              "1     [(['very', JJ), ( 'underachieving', NNP), ( 'd...\n",
              "2     [(['blind', JJ), ( 'tasting', NNP), ( 'at', NN...\n",
              "3     [(['the', JJ), ( 'beer', NNP), ( 'board', NNP)...\n",
              "4     [(['this', JJ), ( 'was', NNP), ( 'purchased', ...\n",
              "5     [(['a', JJ), ( 'clear', NNP), ( 'brown', NNP),...\n",
              "6     [(['here', JJ), ( 's', NNP), ( 'the', NNP), ( ...\n",
              "7     [(['this', JJ), ( 'poured', NNP), ( 'nicely', ...\n",
              "8     [(['pours', JJ), ( 'a', NNP), ( 'pretty', NNP)...\n",
              "9     [(['batch', JJ), ( '436', NNP), ( '437', NNP),...\n",
              "10    [(['a', JJ), ( 'pale', NNP), ( 'wheat', NNP), ...\n",
              "11    [(['this', JJ), ( 'poured', NNP), ( 'a', NNP),...\n",
              "12    [(['bottled', JJ), ( '2', NNP), ( 'april', NNP...\n",
              "13    [(['poured', JJ), ( 'form', NNP), ( 'a', NNP),...\n",
              "14    [(['had', JJ), ( 'this', NNP), ( 'one', NNP), ...\n",
              "15    [(['12', JJ), ( 'oz', NNP), ( 'bottle', NNP), ...\n",
              "16    [(['a', JJ), ( 'reddish', NNP), ( 'amber', NNP...\n",
              "17    [(['dark', JJ), ( 'appearance', NNP), ( 'with'...\n",
              "18    [(['bb', JJ), ( '09', NNP), ( '03', NNP), ( '0...\n",
              "19    [(['this', JJ), ( 'was', NNP), ( 'basically', ...\n",
              "Name: Tokenized Text, dtype: object"
            ]
          },
          "metadata": {
            "tags": []
          },
          "execution_count": 26
        }
      ]
    },
    {
      "cell_type": "code",
      "metadata": {
        "id": "ADBkvmT_0hsO",
        "colab_type": "code",
        "colab": {}
      },
      "source": [
        "df['POS tags'] = df['Tokenized Text'].apply(nltk.pos_tag)"
      ],
      "execution_count": 0,
      "outputs": []
    },
    {
      "cell_type": "code",
      "metadata": {
        "id": "HaqImEksGSX0",
        "colab_type": "code",
        "outputId": "d2afcd29-dc66-4f0d-b21c-5d711294be22",
        "colab": {
          "base_uri": "https://localhost:8080/",
          "height": 632
        }
      },
      "source": [
        "df"
      ],
      "execution_count": 0,
      "outputs": [
        {
          "output_type": "execute_result",
          "data": {
            "text/html": [
              "<div>\n",
              "<style scoped>\n",
              "    .dataframe tbody tr th:only-of-type {\n",
              "        vertical-align: middle;\n",
              "    }\n",
              "\n",
              "    .dataframe tbody tr th {\n",
              "        vertical-align: top;\n",
              "    }\n",
              "\n",
              "    .dataframe thead th {\n",
              "        text-align: right;\n",
              "    }\n",
              "</style>\n",
              "<table border=\"1\" class=\"dataframe\">\n",
              "  <thead>\n",
              "    <tr style=\"text-align: right;\">\n",
              "      <th></th>\n",
              "      <th>Overall Score</th>\n",
              "      <th>Taste Score</th>\n",
              "      <th>Palate Score</th>\n",
              "      <th>Aroma Score</th>\n",
              "      <th>Appearance Score</th>\n",
              "      <th>Tokenized Text</th>\n",
              "      <th>POS tags</th>\n",
              "    </tr>\n",
              "  </thead>\n",
              "  <tbody>\n",
              "    <tr>\n",
              "      <th>0</th>\n",
              "      <td>4.0</td>\n",
              "      <td>4.0</td>\n",
              "      <td>4.0</td>\n",
              "      <td>4.5</td>\n",
              "      <td>4.0</td>\n",
              "      <td>[['on',  'tap',  'at',  'the',  'brick',  'sto...</td>\n",
              "      <td>[(['on', JJ), ( 'tap', NNP), ( 'at', NNP), ( '...</td>\n",
              "    </tr>\n",
              "    <tr>\n",
              "      <th>1</th>\n",
              "      <td>3.5</td>\n",
              "      <td>2.5</td>\n",
              "      <td>3.5</td>\n",
              "      <td>2.5</td>\n",
              "      <td>3.0</td>\n",
              "      <td>[['very',  'underachieving',  'dont',  'find',...</td>\n",
              "      <td>[(['very', JJ), ( 'underachieving', NNP), ( 'd...</td>\n",
              "    </tr>\n",
              "    <tr>\n",
              "      <th>2</th>\n",
              "      <td>2.5</td>\n",
              "      <td>2.5</td>\n",
              "      <td>2.5</td>\n",
              "      <td>3.0</td>\n",
              "      <td>3.5</td>\n",
              "      <td>[['blind',  'tasting',  'at',  'my',  'brother...</td>\n",
              "      <td>[(['blind', JJ), ( 'tasting', NNP), ( 'at', NN...</td>\n",
              "    </tr>\n",
              "    <tr>\n",
              "      <th>3</th>\n",
              "      <td>2.5</td>\n",
              "      <td>2.0</td>\n",
              "      <td>2.5</td>\n",
              "      <td>2.0</td>\n",
              "      <td>3.5</td>\n",
              "      <td>[['the',  'beer',  'board',  'claims',  'this'...</td>\n",
              "      <td>[(['the', JJ), ( 'beer', NNP), ( 'board', NNP)...</td>\n",
              "    </tr>\n",
              "    <tr>\n",
              "      <th>4</th>\n",
              "      <td>4.5</td>\n",
              "      <td>4.0</td>\n",
              "      <td>4.5</td>\n",
              "      <td>4.5</td>\n",
              "      <td>5.0</td>\n",
              "      <td>[['this',  'was',  'purchased',  'as',  'a',  ...</td>\n",
              "      <td>[(['this', JJ), ( 'was', NNP), ( 'purchased', ...</td>\n",
              "    </tr>\n",
              "    <tr>\n",
              "      <th>...</th>\n",
              "      <td>...</td>\n",
              "      <td>...</td>\n",
              "      <td>...</td>\n",
              "      <td>...</td>\n",
              "      <td>...</td>\n",
              "      <td>...</td>\n",
              "      <td>...</td>\n",
              "    </tr>\n",
              "    <tr>\n",
              "      <th>49995</th>\n",
              "      <td>3.5</td>\n",
              "      <td>3.5</td>\n",
              "      <td>4.0</td>\n",
              "      <td>3.0</td>\n",
              "      <td>4.0</td>\n",
              "      <td>[['16',  '09oz',  'dark',  'brown',  'bottle',...</td>\n",
              "      <td>[(['16', JJ), ( '09oz', NNP), ( 'dark', NNP), ...</td>\n",
              "    </tr>\n",
              "    <tr>\n",
              "      <th>49996</th>\n",
              "      <td>3.5</td>\n",
              "      <td>3.5</td>\n",
              "      <td>3.5</td>\n",
              "      <td>3.5</td>\n",
              "      <td>2.5</td>\n",
              "      <td>[['the',  'typical',  '22',  'ounce',  'bottle...</td>\n",
              "      <td>[(['the', JJ), ( 'typical', NNP), ( '22', NNP)...</td>\n",
              "    </tr>\n",
              "    <tr>\n",
              "      <th>49997</th>\n",
              "      <td>5.0</td>\n",
              "      <td>5.0</td>\n",
              "      <td>4.0</td>\n",
              "      <td>4.0</td>\n",
              "      <td>4.5</td>\n",
              "      <td>[['this',  'is',  'one',  'of',  'the',  'more...</td>\n",
              "      <td>[(['this', JJ), ( 'is', NNP), ( 'one', NNP), (...</td>\n",
              "    </tr>\n",
              "    <tr>\n",
              "      <th>49998</th>\n",
              "      <td>3.0</td>\n",
              "      <td>4.0</td>\n",
              "      <td>4.5</td>\n",
              "      <td>3.5</td>\n",
              "      <td>4.0</td>\n",
              "      <td>[['pour',  'is',  'super',  'deep',  'brown', ...</td>\n",
              "      <td>[(['pour', JJ), ( 'is', NNP), ( 'super', NNP),...</td>\n",
              "    </tr>\n",
              "    <tr>\n",
              "      <th>49999</th>\n",
              "      <td>4.0</td>\n",
              "      <td>4.0</td>\n",
              "      <td>3.5</td>\n",
              "      <td>3.5</td>\n",
              "      <td>4.0</td>\n",
              "      <td>[['thanks',  'goes',  'out',  'to',  'buebie',...</td>\n",
              "      <td>[(['thanks', JJ), ( 'goes', NNP), ( 'out', NNP...</td>\n",
              "    </tr>\n",
              "  </tbody>\n",
              "</table>\n",
              "<p>50000 rows × 7 columns</p>\n",
              "</div>"
            ],
            "text/plain": [
              "       Overall Score  ...                                           POS tags\n",
              "0                4.0  ...  [(['on', JJ), ( 'tap', NNP), ( 'at', NNP), ( '...\n",
              "1                3.5  ...  [(['very', JJ), ( 'underachieving', NNP), ( 'd...\n",
              "2                2.5  ...  [(['blind', JJ), ( 'tasting', NNP), ( 'at', NN...\n",
              "3                2.5  ...  [(['the', JJ), ( 'beer', NNP), ( 'board', NNP)...\n",
              "4                4.5  ...  [(['this', JJ), ( 'was', NNP), ( 'purchased', ...\n",
              "...              ...  ...                                                ...\n",
              "49995            3.5  ...  [(['16', JJ), ( '09oz', NNP), ( 'dark', NNP), ...\n",
              "49996            3.5  ...  [(['the', JJ), ( 'typical', NNP), ( '22', NNP)...\n",
              "49997            5.0  ...  [(['this', JJ), ( 'is', NNP), ( 'one', NNP), (...\n",
              "49998            3.0  ...  [(['pour', JJ), ( 'is', NNP), ( 'super', NNP),...\n",
              "49999            4.0  ...  [(['thanks', JJ), ( 'goes', NNP), ( 'out', NNP...\n",
              "\n",
              "[50000 rows x 7 columns]"
            ]
          },
          "metadata": {
            "tags": []
          },
          "execution_count": 10
        }
      ]
    },
    {
      "cell_type": "code",
      "metadata": {
        "id": "PyT659FTIllS",
        "colab_type": "code",
        "colab": {}
      },
      "source": [
        "df.to_csv('df_with_POStags.csv', index=False)"
      ],
      "execution_count": 0,
      "outputs": []
    },
    {
      "cell_type": "code",
      "metadata": {
        "id": "iy0V6oXRk1ys",
        "colab_type": "code",
        "outputId": "8e803eb0-d765-4182-d7c7-cf7f26d54370",
        "colab": {
          "base_uri": "https://localhost:8080/",
          "height": 35
        }
      },
      "source": [
        "from collections import Counter\n",
        "import nltk\n",
        "counts = Counter( tag for word,  tag in df['POS tags'][120])\n",
        "print(counts)"
      ],
      "execution_count": 0,
      "outputs": [
        {
          "output_type": "stream",
          "text": [
            "Counter({'NNP': 164, 'JJ': 1, 'NN': 1})\n"
          ],
          "name": "stdout"
        }
      ]
    },
    {
      "cell_type": "markdown",
      "metadata": {
        "id": "vJL8eksTJ5i9",
        "colab_type": "text"
      },
      "source": [
        "As we can see here, the POS tagging didn't go as well as we wanted it to. Therefore, we have decided to go on without the POS tags for now, leaving it to be added in a potential future."
      ]
    },
    {
      "cell_type": "markdown",
      "metadata": {
        "id": "CdxOWiXcB9Q_",
        "colab_type": "text"
      },
      "source": [
        "## Data Exploration\n",
        "\n",
        "Now that we have prepared the data, it's time for some data exploration. The things we decided to explore are the following:\n",
        "\n",
        "- Distribution of scores of the different aspects of the rating\n",
        "- Correlation between review length and overall rating\n",
        "- Correlation between the different scores\n",
        "\n",
        "\n",
        "Options:\n",
        "\n",
        "Some other points could be - 1.) correlation between\n",
        "review length and overall rating 2.) number of adjectives\n",
        "vs the overall rating "
      ]
    },
    {
      "cell_type": "code",
      "metadata": {
        "id": "GNQiBJSpB88E",
        "colab_type": "code",
        "outputId": "ee0fa923-b7dc-4db4-8fcc-9d6bb5448478",
        "colab": {
          "base_uri": "https://localhost:8080/",
          "height": 319
        }
      },
      "source": [
        "df['Overall Score'].hist(bins=10)\n",
        "plt.title('Overall Score')\n",
        "plt.xlabel('Rating')\n",
        "plt.ylabel('# Datapoints')"
      ],
      "execution_count": 0,
      "outputs": [
        {
          "output_type": "execute_result",
          "data": {
            "text/plain": [
              "Text(0, 0.5, '# Datapoints')"
            ]
          },
          "metadata": {
            "tags": []
          },
          "execution_count": 36
        },
        {
          "output_type": "display_data",
          "data": {
            "image/png": "[encoded data removed]",
            "text/plain": [
              "<Figure size 432x288 with 1 Axes>"
            ]
          },
          "metadata": {
            "tags": []
          }
        }
      ]
    },
    {
      "cell_type": "code",
      "metadata": {
        "id": "_XzSiRmRLvrj",
        "colab_type": "code",
        "outputId": "4eca7edc-9bf3-4028-dfed-3256555bbfe7",
        "colab": {
          "base_uri": "https://localhost:8080/",
          "height": 319
        }
      },
      "source": [
        "df['Taste Score'].hist(bins=10)\n",
        "plt.title('Taste Score')\n",
        "plt.xlabel('Rating')\n",
        "plt.ylabel('# Datapoints')"
      ],
      "execution_count": 0,
      "outputs": [
        {
          "output_type": "execute_result",
          "data": {
            "text/plain": [
              "Text(0, 0.5, '# Datapoints')"
            ]
          },
          "metadata": {
            "tags": []
          },
          "execution_count": 28
        },
        {
          "output_type": "display_data",
          "data": {
            "image/png": "[encoded data removed]",
            "text/plain": [
              "<Figure size 432x288 with 1 Axes>"
            ]
          },
          "metadata": {
            "tags": []
          }
        }
      ]
    },
    {
      "cell_type": "code",
      "metadata": {
        "id": "dp2cSjl5OAJ0",
        "colab_type": "code",
        "outputId": "cb137bae-f0ae-4088-b9cc-870e19186b8a",
        "colab": {
          "base_uri": "https://localhost:8080/",
          "height": 319
        }
      },
      "source": [
        "df['Palate Score'].hist(bins=10)\n",
        "plt.title('Palate Score')\n",
        "plt.xlabel('Rating')\n",
        "plt.ylabel('# Datapoints')"
      ],
      "execution_count": 0,
      "outputs": [
        {
          "output_type": "execute_result",
          "data": {
            "text/plain": [
              "Text(0, 0.5, '# Datapoints')"
            ]
          },
          "metadata": {
            "tags": []
          },
          "execution_count": 29
        },
        {
          "output_type": "display_data",
          "data": {
            "image/png": "[encoded data removed]",
            "text/plain": [
              "<Figure size 432x288 with 1 Axes>"
            ]
          },
          "metadata": {
            "tags": []
          }
        }
      ]
    },
    {
      "cell_type": "code",
      "metadata": {
        "id": "xuv1EfTNOJDN",
        "colab_type": "code",
        "outputId": "e68c8a54-0de9-4c15-8a3c-347e19c19047",
        "colab": {
          "base_uri": "https://localhost:8080/",
          "height": 319
        }
      },
      "source": [
        "df['Aroma Score'].hist(bins=10)\n",
        "plt.title('Aroma Score')\n",
        "plt.xlabel('Rating')\n",
        "plt.ylabel('# Datapoints')"
      ],
      "execution_count": 0,
      "outputs": [
        {
          "output_type": "execute_result",
          "data": {
            "text/plain": [
              "Text(0, 0.5, '# Datapoints')"
            ]
          },
          "metadata": {
            "tags": []
          },
          "execution_count": 30
        },
        {
          "output_type": "display_data",
          "data": {
            "image/png": "[encoded data removed]",
            "text/plain": [
              "<Figure size 432x288 with 1 Axes>"
            ]
          },
          "metadata": {
            "tags": []
          }
        }
      ]
    },
    {
      "cell_type": "code",
      "metadata": {
        "id": "LGUUaxXmOMfu",
        "colab_type": "code",
        "outputId": "749b7c2c-59e0-47a7-e7cc-b2f88812c402",
        "colab": {
          "base_uri": "https://localhost:8080/",
          "height": 319
        }
      },
      "source": [
        "df['Appearance Score'].hist(bins=10)\n",
        "plt.title('Appearance Score')\n",
        "plt.xlabel('Rating')\n",
        "plt.ylabel('# Datapoints')"
      ],
      "execution_count": 0,
      "outputs": [
        {
          "output_type": "execute_result",
          "data": {
            "text/plain": [
              "Text(0, 0.5, '# Datapoints')"
            ]
          },
          "metadata": {
            "tags": []
          },
          "execution_count": 31
        },
        {
          "output_type": "display_data",
          "data": {
            "image/png": "[encoded data removed]",
            "text/plain": [
              "<Figure size 432x288 with 1 Axes>"
            ]
          },
          "metadata": {
            "tags": []
          }
        }
      ]
    },
    {
      "cell_type": "code",
      "metadata": {
        "id": "xyIxAWnePb7Q",
        "colab_type": "code",
        "outputId": "7570a553-98d3-4689-c1e7-89d6af0d435f",
        "colab": {
          "base_uri": "https://localhost:8080/",
          "height": 375
        }
      },
      "source": [
        "corr_mat = df[['Overall Score', 'Taste Score', 'Palate Score', 'Aroma Score', 'Appearance Score']].corr(method='pearson')\n",
        "sns.heatmap(abs(corr_mat), annot=True, center=0, cmap=\"Blues\")\n",
        "plt.title('Pearson correlation')\n",
        "plt.show()"
      ],
      "execution_count": 0,
      "outputs": [
        {
          "output_type": "display_data",
          "data": {
            "image/png": "[encoded data removed]",
            "text/plain": [
              "<Figure size 432x288 with 2 Axes>"
            ]
          },
          "metadata": {
            "tags": []
          }
        }
      ]
    },
    {
      "cell_type": "markdown",
      "metadata": {
        "id": "yJbA5vUmQr0V",
        "colab_type": "text"
      },
      "source": [
        "## Splitting the dataset for analysis\n",
        "\n",
        "Now that we have explored the data and we have seen some of its characteristics, we should split the dataset in a train, development, and test set. \n",
        "\n",
        "We split the dataset as follows:\n",
        "- 70% Training set\n",
        "- 15% Development set\n",
        "- 15% Test set\n",
        "\n",
        "We decided to maintain two sets of the split results, one with the scores for the attributes of the experience, and one without. This to see the impact of the scores on performance. By using the same random_state, the indexes in both versions will be the same, making analysis easier."
      ]
    },
    {
      "cell_type": "code",
      "metadata": {
        "id": "-NJAaWNPL8DE",
        "colab_type": "code",
        "colab": {}
      },
      "source": [
        "labels = df['Overall Score']\n",
        "\n",
        "trainset_withscores = df.drop(columns=['Overall Score'])\n",
        "trainset_withoutscores = df['Tokenized Text']"
      ],
      "execution_count": 0,
      "outputs": []
    },
    {
      "cell_type": "code",
      "metadata": {
        "id": "qqVOqjWTYG74",
        "colab_type": "code",
        "colab": {}
      },
      "source": [
        "def split_sets(trainset, labels, test_size=0.15, dev_size=0.15):\n",
        "    X_traindev, X_test, y_traindev, y_test = train_test_split(trainset,\n",
        "                                                         labels,\n",
        "                                                         test_size=test_size,\n",
        "                                                         random_state=42,\n",
        "                                                         stratify=None)\n",
        "\n",
        "    X_train, X_dev, y_train, y_dev = train_test_split(X_traindev,\n",
        "                                                  y_traindev,\n",
        "                                                  test_size=dev_size/(1-test_size),\n",
        "                                                  random_state=42,\n",
        "                                                  stratify=None)   \n",
        "\n",
        "    return X_train, y_train, X_dev, y_dev, X_test, y_test "
      ],
      "execution_count": 0,
      "outputs": []
    },
    {
      "cell_type": "code",
      "metadata": {
        "id": "R38NfmATQpwZ",
        "colab_type": "code",
        "colab": {}
      },
      "source": [
        "X_train_withscores, y_train_withscores, X_dev_withscores, y_dev_withscores, X_test_withscores, y_test_withscores = split_sets(trainset_withscores, \n",
        "                                                                                                                              labels)"
      ],
      "execution_count": 0,
      "outputs": []
    },
    {
      "cell_type": "code",
      "metadata": {
        "id": "JuTcdeRsQpt6",
        "colab_type": "code",
        "colab": {}
      },
      "source": [
        "X_train_withoutscores, y_train_withoutscores, X_dev_withoutscores, y_dev_withoutscores, X_test_withoutscores, y_test_withoutscores = split_sets(trainset_withoutscores, \n",
        "                                                                                                                              labels)"
      ],
      "execution_count": 0,
      "outputs": []
    },
    {
      "cell_type": "markdown",
      "metadata": {
        "id": "LCm7NN45Oua_",
        "colab_type": "text"
      },
      "source": [
        "Now that the data has been split, it can be prepared for the models that it will be fed into. We use Tfidf vectors as the representation."
      ]
    },
    {
      "cell_type": "code",
      "metadata": {
        "id": "_Uophej6QpkR",
        "colab_type": "code",
        "colab": {}
      },
      "source": [
        "tfidf = TfidfVectorizer(sublinear_tf=True, min_df=5, norm='l2', encoding='latin-1', ngram_range=(1, 2))"
      ],
      "execution_count": 0,
      "outputs": []
    },
    {
      "cell_type": "code",
      "metadata": {
        "id": "X0qP8oPDQpiB",
        "colab_type": "code",
        "colab": {}
      },
      "source": [
        "https://towardsdatascience.com/multi-class-text-classification-with-scikit-learn-12f1e60e0a9f\n",
        "https://scikit-learn.org/stable/modules/generated/sklearn.feature_extraction.text.TfidfVectorizer.html"
      ],
      "execution_count": 0,
      "outputs": []
    },
    {
      "cell_type": "code",
      "metadata": {
        "id": "ZKHWiMmOQpfZ",
        "colab_type": "code",
        "colab": {}
      },
      "source": [
        "X_train_withscores_tfidf = tfidf.fit_transform()"
      ],
      "execution_count": 0,
      "outputs": []
    },
    {
      "cell_type": "code",
      "metadata": {
        "id": "83qcMjtdQpdC",
        "colab_type": "code",
        "colab": {}
      },
      "source": [
        ""
      ],
      "execution_count": 0,
      "outputs": []
    },
    {
      "cell_type": "code",
      "metadata": {
        "id": "1ZjiVcH8QpY0",
        "colab_type": "code",
        "colab": {}
      },
      "source": [
        ""
      ],
      "execution_count": 0,
      "outputs": []
    },
    {
      "cell_type": "code",
      "metadata": {
        "id": "8alwU8s3QpBL",
        "colab_type": "code",
        "colab": {}
      },
      "source": [
        ""
      ],
      "execution_count": 0,
      "outputs": []
    },
    {
      "cell_type": "markdown",
      "metadata": {
        "colab_type": "text",
        "id": "7KFVFcEHoLMh"
      },
      "source": [
        "# Converting data to Pytorch tensors\n",
        "\n",
        "We will first convert data to Pytorch tensors so they can be used in a neural network.\n",
        "To do that, you must first create a dictionnary that will map words to integers.\n",
        "Add to the dictionnary only words that are in the training set (be sure to understand why we do that!).\n",
        "\n",
        "Then, you can convert the data to tensors:\n",
        "- use tensors of longs: both the sentence and the label will be represented as integers, not floats!\n",
        "- these tensors do not require a gradient\n",
        "\n",
        "A tensor representing a sentence is composed of the integer representation of each word, e.g. [10, 256, 3, 4].\n",
        "Note that some words in the dev and test sets may not be in the dictionnary! (i.e. unknown words)\n",
        "You can just skip them."
      ]
    },
    {
      "cell_type": "code",
      "metadata": {
        "colab_type": "code",
        "id": "gAOuLi1uoLMj",
        "colab": {}
      },
      "source": [
        "dictionary = {}\n",
        "num_voc = 0\n",
        "for sentence in txt_train:\n",
        "    for word in sentence:\n",
        "        if word not in dictionary.keys():\n",
        "            dictionary[word] = num_voc\n",
        "            num_voc += 1"
      ],
      "execution_count": 0,
      "outputs": []
    },
    {
      "cell_type": "code",
      "metadata": {
        "colab_type": "code",
        "id": "uc57HBaDoLMm",
        "colab": {}
      },
      "source": [
        "def to_tensor(data):\n",
        "    d = []\n",
        "    for word in data:\n",
        "        if word in dictionary.keys():\n",
        "            d.append(dictionary[word])\n",
        "    return th.tensor(d)"
      ],
      "execution_count": 0,
      "outputs": []
    },
    {
      "cell_type": "markdown",
      "metadata": {
        "colab_type": "text",
        "id": "amsFT3yroLMq"
      },
      "source": [
        "# Neural network definition\n",
        "\n",
        "The neural network should be defined as follows:\n",
        "- it takes as input a tensor that is a sequence of integers indexing word embeddings\n",
        "- it retrieves the word embeddings from an embedding table\n",
        "- it constructs the \"input\" of the MLP by summing over all embeddings (i.e. bag-of-word model)\n",
        "- it build a hidden represention using a MLP (1 layer? 2 layers? experiment! but maybe first try wihout any hidden layer...)\n",
        "- it project the hidden representation to the output space: it is a binary classification task, so the output space is a scalar where a negative (resp. positive) value means the review is negative (resp. positive)."
      ]
    },
    {
      "cell_type": "code",
      "metadata": {
        "id": "HYlTu8PESeT3",
        "colab_type": "code",
        "colab": {}
      },
      "source": [
        "class Conv1D(nn.Module):\n",
        "    '''\n",
        "    Class of convolution layer\n",
        "    '''\n",
        "    def __init__(self, in_channels, out_channels, slide_win):\n",
        "      '''\n",
        "      in_channels : input dimension\n",
        "      out_channels : output dimension\n",
        "      slide_win : size of slide window\n",
        "      \n",
        "      '''\n",
        "        super(Conv1D, self).__init__()\n",
        "        # window size\n",
        "        self.win = slide_win\n",
        "        # output dimension\n",
        "        self.out_channels = out_channels\n",
        "        # create a linear as the kernal of convolution\n",
        "        self.linear = nn.Linear(in_channels*slide_win, out_channels, bias=True)\n",
        "        # initilize the weights of the kernal\n",
        "        th.nn.init.xavier_uniform_(self.linear.weight.data)\n",
        "\n",
        "    def forward(self, x):\n",
        "    # function of forward\n",
        "\n",
        "        # for saving all Features extracted by the convolution\n",
        "        res = [] \n",
        "\n",
        "        for i in range(len(x)-self.win+1):\n",
        "\n",
        "            # get the part of data of size [self.win]\n",
        "            d = x[i:i+self.win]\n",
        "\n",
        "            # Concatenate wordembeddings in the window\n",
        "            d = th.reshape(d, (1,-1))\n",
        "\n",
        "            # Feature extracted by the convolution\n",
        "            r = self.linear(d)\n",
        "            res.append(r[0])\n",
        "        return th.t(th.stack(res))\n",
        "\n",
        "class MaxPool(nn.Module):\n",
        "    '''\n",
        "    class of max pooling\n",
        "    '''\n",
        "    def __init__(self, axis):\n",
        "        super(MaxPool, self).__init__()\n",
        "        self.axis = axis\n",
        "    def forward(self,x):\n",
        "        return th.max(x, axis=self.axis)[0]"
      ],
      "execution_count": 0,
      "outputs": []
    },
    {
      "cell_type": "code",
      "metadata": {
        "id": "a4mvJskgUeUf",
        "colab_type": "code",
        "colab": {}
      },
      "source": [
        "class CNN_classifier(nn.Module):\n",
        "    def __init__(self, vocab_size, embedding_dim, hidden_size, slide_win, drop_out=None):\n",
        "        super(CNN_classifier, self).__init__()\n",
        "        # embedding layer\n",
        "        self.embedding = nn.Embedding(vocab_size, embedding_dim)\n",
        "        # convolution layer\n",
        "        self.conv = Conv1D(embedding_dim, hidden_size, slide_win)\n",
        "        # max pool layer\n",
        "        self.pool = MaxPool(axis=1)\n",
        "        # first dence layer\n",
        "        self.dence1 = nn.Linear(hidden_size, hidden_size)\n",
        "        # second dence layer\n",
        "        self.dence2 = nn.Linear(hidden_size, 1)\n",
        "        # drop out layer(if defined)\n",
        "        self.dropout = None\n",
        "        if drop_out:\n",
        "            self.dropout = nn.Dropout(drop_out)\n",
        "        # initiaize the weights of dence layers\n",
        "        th.nn.init.xavier_uniform_(self.dence1.weight.data)\n",
        "        th.nn.init.xavier_uniform_(self.dence2.weight.data)\n",
        "        \n",
        "    def forward(self, inputs):\n",
        "        out = self.embedding(inputs)\n",
        "        out = self.conv(out)\n",
        "        out = self.pool(out)\n",
        "        out = th.relu(out)\n",
        "        if self.dropout:\n",
        "            out = self.dropout(out)\n",
        "        out = th.relu(self.dence1(out))\n",
        "        return self.dence2(out) \n",
        "        "
      ],
      "execution_count": 0,
      "outputs": []
    },
    {
      "cell_type": "code",
      "metadata": {
        "id": "n2VQ-y_kcsZs",
        "colab_type": "code",
        "colab": {}
      },
      "source": [
        ""
      ],
      "execution_count": 0,
      "outputs": []
    },
    {
      "cell_type": "markdown",
      "metadata": {
        "colab_type": "text",
        "id": "rG4KAZ8hoLMt"
      },
      "source": [
        "## Loss function\n",
        "\n",
        "Create a loss function builder.\n",
        "\n",
        "- Pytorch loss functions are documented here: https://pytorch.org/docs/stable/nn.html#loss-functions\n",
        "- In our case, we are interested in *BCELoss* and *BCEWithLogitsLoss*. Read their documentation and choose the one that fits with your network output"
      ]
    },
    {
      "cell_type": "code",
      "metadata": {
        "colab_type": "code",
        "id": "m0XVoEAaoLMt",
        "colab": {}
      },
      "source": [
        "# BCEWithLogitsLoss is more numerically stable than sigmoid + BCELoss\n",
        "bcelogitsloos = nn.BCEWithLogitsLoss()"
      ],
      "execution_count": 0,
      "outputs": []
    },
    {
      "cell_type": "markdown",
      "metadata": {
        "colab_type": "text",
        "collapsed": true,
        "id": "s-W4BaYHoLMw"
      },
      "source": [
        "## Training loop\n",
        "\n",
        "Write your training loop!\n",
        "\n",
        "- parameterizable number of epochs\n",
        "- at each epoch, print the mean loss and the dev accuracy"
      ]
    },
    {
      "cell_type": "code",
      "metadata": {
        "id": "-NYAa2iSkr32",
        "colab_type": "code",
        "colab": {}
      },
      "source": [
        "EPOCHS = 40\n",
        "WINDOW = 4\n",
        "EMBED_DIM = 10\n",
        "HIDDEN_SIZE = 10\n",
        "DROP_OUT = None"
      ],
      "execution_count": 0,
      "outputs": []
    },
    {
      "cell_type": "code",
      "metadata": {
        "colab_type": "code",
        "id": "fPeqz8SLoLMw",
        "colab": {}
      },
      "source": [
        "from sklearn.utils import shuffle\n",
        "import matplotlib.pyplot as plt\n",
        "\n",
        "def evaluate(model, datas, labels):\n",
        "    '''\n",
        "    function for evaluation\n",
        "    model : pytorch model\n",
        "    datas : dataset \n",
        "    labels : labels\n",
        "\n",
        "    return : accuracy\n",
        "    '''\n",
        "    # nb of good prediction\n",
        "    good = 0\n",
        "    # nb of false prediction\n",
        "    total = 0\n",
        "\n",
        "    # for each paire of x,y \n",
        "    for x,y in zip(datas,labels):\n",
        "        # make x to Tensor\n",
        "        x = to_tensor(x)\n",
        "        # if number of words in a sentence is smaller than size of slide window\n",
        "        # we break\n",
        "        if x.size()[0] <= WINDOW-1:\n",
        "            continue\n",
        "        # get result of model\n",
        "        out = model(x)\n",
        "        total += 1\n",
        "        if (out >= 0) == (y == 1.):\n",
        "            good += 1\n",
        "    return good/total\n",
        "\n",
        "def train(model, optimizer, loss_function, datas, labels):\n",
        "    '''\n",
        "    training function\n",
        "    \n",
        "    model : the torch model\n",
        "    optimizer : optimizer \n",
        "    loss_function : loss function\n",
        "    datas : dataset (x)\n",
        "    labels : labels (y)\n",
        "\n",
        "    return : mean loss, accuracy on dev set, the trained model\n",
        "    '''\n",
        "    # the list of loss\n",
        "    total_loss = 0\n",
        "    # shuffle the dataset\n",
        "    x_train, y_train = shuffle(datas, labels)\n",
        "    for x, y in zip(x_train, y_train):\n",
        "        # reset the gradient\n",
        "        optimizer.zero_grad()\n",
        "        if to_tensor(x).size()[0] <= WINDOW-1:\n",
        "            continue\n",
        "        # output of the model\n",
        "        output = model(to_tensor(x))\n",
        "        # compute the loss\n",
        "        loss = loss_function(output, th.tensor([y]))\n",
        "        # backward\n",
        "        loss.backward()\n",
        "        # update the parameters\n",
        "        optimizer.step()\n",
        "        total_loss += loss\n",
        "    # compute mean loss\n",
        "    mean_loss = total_loss.item() / len(labels)\n",
        "    # evaluate the model on dev set\n",
        "    accuracy = evaluate(model, txt_dev, label_dev)\n",
        "    return mean_loss, accuracy, model\n",
        "\n",
        "def training_loop(model, optimizer, loss_function, n_epochs, datas, labels):\n",
        "    '''\n",
        "    training function\n",
        "    \n",
        "    model : the torch model\n",
        "    optimizer : optimizer \n",
        "    loss_function : loss function\n",
        "    n_epochs : number of epches\n",
        "    datas : dataset (x)\n",
        "    labels : labels (y)\n",
        "\n",
        "    return : the trained model, list of mean loss of each epochs, list of accuracy on dev set of each epochs, \n",
        "    '''\n",
        "    mean_losss = []\n",
        "    dev_accus = []\n",
        "    for e in range(n_epochs):\n",
        "        print(\"Epoch : \",e)\n",
        "        # train the model\n",
        "        mean_loss, accuracy, model = train(model, optimizer, loss_function, datas, labels)\n",
        "        \n",
        "        dev_accus.append(accuracy)  \n",
        "        mean_losss.append(mean_loss)\n",
        "\n",
        "        print('mean loss : ', mean_loss)\n",
        "        print('accuracy on dev set : ', accuracy)\n",
        "    return model, mean_losss, dev_accus"
      ],
      "execution_count": 0,
      "outputs": []
    },
    {
      "cell_type": "code",
      "metadata": {
        "colab_type": "code",
        "id": "qsagOK_fPK4o",
        "colab": {}
      },
      "source": [
        "\n",
        "model = CNN_classifier(num_voc, embedding_dim=EMBED_DIM, hidden_size=HIDDEN_SIZE, slide_win=WINDOW,drop_out=DROP_OUT)\n",
        "print(model)\n",
        "optimizer = th.optim.SGD(model.parameters(),lr=0.1)\n",
        "# training loop\n",
        "model, mean_losss, dev_accus = training_loop(model, optimizer, bcelogitsloos, EPOCHS, txt_train, label_train)"
      ],
      "execution_count": 0,
      "outputs": []
    },
    {
      "cell_type": "code",
      "metadata": {
        "colab_type": "code",
        "id": "U6Iz6WRVoLNL",
        "colab": {}
      },
      "source": [
        "# plot the results\n",
        "plt.plot([i for i in range(EPOCHS)],mean_losss, label='mean loss')\n",
        "plt.plot([i for i in range(EPOCHS)],dev_accus, label='accuracy on dev')\n",
        "plt.xlabel('Epochs')\n",
        "plt.title('Results with slide window = 4')\n",
        "plt.legend()\n",
        "plt.savefig('/win4.png')\n",
        "plt.show()"
      ],
      "execution_count": 0,
      "outputs": []
    },
    {
      "cell_type": "code",
      "metadata": {
        "colab_type": "code",
        "id": "iPO985z3oLNO",
        "colab": {}
      },
      "source": [
        ""
      ],
      "execution_count": 0,
      "outputs": []
    }
  ]
}